{
 "cells": [
  {
   "cell_type": "markdown",
   "id": "0be10e94-e5c2-403a-a53d-03e16fcb4c71",
   "metadata": {},
   "source": [
    "# Matrix Multiplication from Foundations\n",
    "The foundations are:\n",
    "- Python\n",
    "- matplotlib\n",
    "- Python standard library\n",
    "- Jupyter notebooks and nbdev"
   ]
  },
  {
   "cell_type": "code",
   "execution_count": 94,
   "id": "911c3f6e-0874-407d-b607-58a93ffcdf46",
   "metadata": {},
   "outputs": [],
   "source": [
    "from pathlib import Path\n",
    "import pickle, gzip, math, os, time, shutil, matplotlib as mpl, matplotlib.pyplot as plt"
   ]
  },
  {
   "cell_type": "markdown",
   "id": "13c21474-46f1-4f28-bcc9-2d09a84a5bcf",
   "metadata": {},
   "source": [
    "## Get Data"
   ]
  },
  {
   "cell_type": "code",
   "execution_count": 95,
   "id": "24eda405-708d-4e54-9c9e-1e3d199cff22",
   "metadata": {},
   "outputs": [],
   "source": [
    "MNIST_URL='https://github.com/mnielsen/neural-networks-and-deep-learning/blob/master/data/mnist.pkl.gz?raw=true'\n",
    "path_data = Path(\"data\")\n",
    "path_data.mkdir(exist_ok=True)\n",
    "path_gz = path_data/\"mnist.pkl.gz\""
   ]
  },
  {
   "cell_type": "markdown",
   "id": "90dc7c3b-4b15-46d4-8bfe-a6a7c7a0a33c",
   "metadata": {},
   "source": [
    "Tips\n",
    "* Press shift + tab to see what options a method has\n",
    "* Or you can just hit tab inside of the method call\n",
    "* shift enter on a function without arguments to see where it comes from\n",
    "* put a questionmark after it to read the docs\n",
    "* put two questionmakrs after it to read the source code"
   ]
  },
  {
   "cell_type": "code",
   "execution_count": 96,
   "id": "c2d12d1c-a093-4923-b38c-2b9bbdace3d7",
   "metadata": {},
   "outputs": [],
   "source": [
    "from urllib.request import urlretrieve"
   ]
  },
  {
   "cell_type": "code",
   "execution_count": 97,
   "id": "d732484d-6f02-4d8d-bb2e-b928403c07a9",
   "metadata": {},
   "outputs": [
    {
     "data": {
      "text/plain": [
       "<function urllib.request.urlretrieve(url, filename=None, reporthook=None, data=None)>"
      ]
     },
     "execution_count": 97,
     "metadata": {},
     "output_type": "execute_result"
    }
   ],
   "source": [
    "urlretrieve"
   ]
  },
  {
   "cell_type": "code",
   "execution_count": 98,
   "id": "0ee436fa-5bc1-4e82-a450-c94ab6c65d26",
   "metadata": {},
   "outputs": [
    {
     "name": "stdout",
     "output_type": "stream",
     "text": [
      "\u001b[0;31mSignature:\u001b[0m \u001b[0murlretrieve\u001b[0m\u001b[0;34m(\u001b[0m\u001b[0murl\u001b[0m\u001b[0;34m,\u001b[0m \u001b[0mfilename\u001b[0m\u001b[0;34m=\u001b[0m\u001b[0;32mNone\u001b[0m\u001b[0;34m,\u001b[0m \u001b[0mreporthook\u001b[0m\u001b[0;34m=\u001b[0m\u001b[0;32mNone\u001b[0m\u001b[0;34m,\u001b[0m \u001b[0mdata\u001b[0m\u001b[0;34m=\u001b[0m\u001b[0;32mNone\u001b[0m\u001b[0;34m)\u001b[0m\u001b[0;34m\u001b[0m\u001b[0;34m\u001b[0m\u001b[0m\n",
      "\u001b[0;31mDocstring:\u001b[0m\n",
      "Retrieve a URL into a temporary location on disk.\n",
      "\n",
      "Requires a URL argument. If a filename is passed, it is used as\n",
      "the temporary file location. The reporthook argument should be\n",
      "a callable that accepts a block number, a read size, and the\n",
      "total file size of the URL target. The data argument should be\n",
      "valid URL encoded data.\n",
      "\n",
      "If a filename is passed and the URL points to a local resource,\n",
      "the result is a copy from local file to new file.\n",
      "\n",
      "Returns a tuple containing the path to the newly created\n",
      "data file as well as the resulting HTTPMessage object.\n",
      "\u001b[0;31mFile:\u001b[0m      /usr/lib/python3.11/urllib/request.py\n",
      "\u001b[0;31mType:\u001b[0m      function"
     ]
    }
   ],
   "source": [
    "urlretrieve?"
   ]
  },
  {
   "cell_type": "code",
   "execution_count": 99,
   "id": "4eec57f9-4c26-4226-a89a-0a9f0bb5d83d",
   "metadata": {},
   "outputs": [
    {
     "name": "stdout",
     "output_type": "stream",
     "text": [
      "\u001b[0;31mSignature:\u001b[0m \u001b[0murlretrieve\u001b[0m\u001b[0;34m(\u001b[0m\u001b[0murl\u001b[0m\u001b[0;34m,\u001b[0m \u001b[0mfilename\u001b[0m\u001b[0;34m=\u001b[0m\u001b[0;32mNone\u001b[0m\u001b[0;34m,\u001b[0m \u001b[0mreporthook\u001b[0m\u001b[0;34m=\u001b[0m\u001b[0;32mNone\u001b[0m\u001b[0;34m,\u001b[0m \u001b[0mdata\u001b[0m\u001b[0;34m=\u001b[0m\u001b[0;32mNone\u001b[0m\u001b[0;34m)\u001b[0m\u001b[0;34m\u001b[0m\u001b[0;34m\u001b[0m\u001b[0m\n",
      "\u001b[0;31mSource:\u001b[0m   \n",
      "\u001b[0;32mdef\u001b[0m \u001b[0murlretrieve\u001b[0m\u001b[0;34m(\u001b[0m\u001b[0murl\u001b[0m\u001b[0;34m,\u001b[0m \u001b[0mfilename\u001b[0m\u001b[0;34m=\u001b[0m\u001b[0;32mNone\u001b[0m\u001b[0;34m,\u001b[0m \u001b[0mreporthook\u001b[0m\u001b[0;34m=\u001b[0m\u001b[0;32mNone\u001b[0m\u001b[0;34m,\u001b[0m \u001b[0mdata\u001b[0m\u001b[0;34m=\u001b[0m\u001b[0;32mNone\u001b[0m\u001b[0;34m)\u001b[0m\u001b[0;34m:\u001b[0m\u001b[0;34m\u001b[0m\n",
      "\u001b[0;34m\u001b[0m    \u001b[0;34m\"\"\"\u001b[0m\n",
      "\u001b[0;34m    Retrieve a URL into a temporary location on disk.\u001b[0m\n",
      "\u001b[0;34m\u001b[0m\n",
      "\u001b[0;34m    Requires a URL argument. If a filename is passed, it is used as\u001b[0m\n",
      "\u001b[0;34m    the temporary file location. The reporthook argument should be\u001b[0m\n",
      "\u001b[0;34m    a callable that accepts a block number, a read size, and the\u001b[0m\n",
      "\u001b[0;34m    total file size of the URL target. The data argument should be\u001b[0m\n",
      "\u001b[0;34m    valid URL encoded data.\u001b[0m\n",
      "\u001b[0;34m\u001b[0m\n",
      "\u001b[0;34m    If a filename is passed and the URL points to a local resource,\u001b[0m\n",
      "\u001b[0;34m    the result is a copy from local file to new file.\u001b[0m\n",
      "\u001b[0;34m\u001b[0m\n",
      "\u001b[0;34m    Returns a tuple containing the path to the newly created\u001b[0m\n",
      "\u001b[0;34m    data file as well as the resulting HTTPMessage object.\u001b[0m\n",
      "\u001b[0;34m    \"\"\"\u001b[0m\u001b[0;34m\u001b[0m\n",
      "\u001b[0;34m\u001b[0m    \u001b[0murl_type\u001b[0m\u001b[0;34m,\u001b[0m \u001b[0mpath\u001b[0m \u001b[0;34m=\u001b[0m \u001b[0m_splittype\u001b[0m\u001b[0;34m(\u001b[0m\u001b[0murl\u001b[0m\u001b[0;34m)\u001b[0m\u001b[0;34m\u001b[0m\n",
      "\u001b[0;34m\u001b[0m\u001b[0;34m\u001b[0m\n",
      "\u001b[0;34m\u001b[0m    \u001b[0;32mwith\u001b[0m \u001b[0mcontextlib\u001b[0m\u001b[0;34m.\u001b[0m\u001b[0mclosing\u001b[0m\u001b[0;34m(\u001b[0m\u001b[0murlopen\u001b[0m\u001b[0;34m(\u001b[0m\u001b[0murl\u001b[0m\u001b[0;34m,\u001b[0m \u001b[0mdata\u001b[0m\u001b[0;34m)\u001b[0m\u001b[0;34m)\u001b[0m \u001b[0;32mas\u001b[0m \u001b[0mfp\u001b[0m\u001b[0;34m:\u001b[0m\u001b[0;34m\u001b[0m\n",
      "\u001b[0;34m\u001b[0m        \u001b[0mheaders\u001b[0m \u001b[0;34m=\u001b[0m \u001b[0mfp\u001b[0m\u001b[0;34m.\u001b[0m\u001b[0minfo\u001b[0m\u001b[0;34m(\u001b[0m\u001b[0;34m)\u001b[0m\u001b[0;34m\u001b[0m\n",
      "\u001b[0;34m\u001b[0m\u001b[0;34m\u001b[0m\n",
      "\u001b[0;34m\u001b[0m        \u001b[0;31m# Just return the local path and the \"headers\" for file://\u001b[0m\u001b[0;34m\u001b[0m\n",
      "\u001b[0;34m\u001b[0m        \u001b[0;31m# URLs. No sense in performing a copy unless requested.\u001b[0m\u001b[0;34m\u001b[0m\n",
      "\u001b[0;34m\u001b[0m        \u001b[0;32mif\u001b[0m \u001b[0murl_type\u001b[0m \u001b[0;34m==\u001b[0m \u001b[0;34m\"file\"\u001b[0m \u001b[0;32mand\u001b[0m \u001b[0;32mnot\u001b[0m \u001b[0mfilename\u001b[0m\u001b[0;34m:\u001b[0m\u001b[0;34m\u001b[0m\n",
      "\u001b[0;34m\u001b[0m            \u001b[0;32mreturn\u001b[0m \u001b[0mos\u001b[0m\u001b[0;34m.\u001b[0m\u001b[0mpath\u001b[0m\u001b[0;34m.\u001b[0m\u001b[0mnormpath\u001b[0m\u001b[0;34m(\u001b[0m\u001b[0mpath\u001b[0m\u001b[0;34m)\u001b[0m\u001b[0;34m,\u001b[0m \u001b[0mheaders\u001b[0m\u001b[0;34m\u001b[0m\n",
      "\u001b[0;34m\u001b[0m\u001b[0;34m\u001b[0m\n",
      "\u001b[0;34m\u001b[0m        \u001b[0;31m# Handle temporary file setup.\u001b[0m\u001b[0;34m\u001b[0m\n",
      "\u001b[0;34m\u001b[0m        \u001b[0;32mif\u001b[0m \u001b[0mfilename\u001b[0m\u001b[0;34m:\u001b[0m\u001b[0;34m\u001b[0m\n",
      "\u001b[0;34m\u001b[0m            \u001b[0mtfp\u001b[0m \u001b[0;34m=\u001b[0m \u001b[0mopen\u001b[0m\u001b[0;34m(\u001b[0m\u001b[0mfilename\u001b[0m\u001b[0;34m,\u001b[0m \u001b[0;34m'wb'\u001b[0m\u001b[0;34m)\u001b[0m\u001b[0;34m\u001b[0m\n",
      "\u001b[0;34m\u001b[0m        \u001b[0;32melse\u001b[0m\u001b[0;34m:\u001b[0m\u001b[0;34m\u001b[0m\n",
      "\u001b[0;34m\u001b[0m            \u001b[0mtfp\u001b[0m \u001b[0;34m=\u001b[0m \u001b[0mtempfile\u001b[0m\u001b[0;34m.\u001b[0m\u001b[0mNamedTemporaryFile\u001b[0m\u001b[0;34m(\u001b[0m\u001b[0mdelete\u001b[0m\u001b[0;34m=\u001b[0m\u001b[0;32mFalse\u001b[0m\u001b[0;34m)\u001b[0m\u001b[0;34m\u001b[0m\n",
      "\u001b[0;34m\u001b[0m            \u001b[0mfilename\u001b[0m \u001b[0;34m=\u001b[0m \u001b[0mtfp\u001b[0m\u001b[0;34m.\u001b[0m\u001b[0mname\u001b[0m\u001b[0;34m\u001b[0m\n",
      "\u001b[0;34m\u001b[0m            \u001b[0m_url_tempfiles\u001b[0m\u001b[0;34m.\u001b[0m\u001b[0mappend\u001b[0m\u001b[0;34m(\u001b[0m\u001b[0mfilename\u001b[0m\u001b[0;34m)\u001b[0m\u001b[0;34m\u001b[0m\n",
      "\u001b[0;34m\u001b[0m\u001b[0;34m\u001b[0m\n",
      "\u001b[0;34m\u001b[0m        \u001b[0;32mwith\u001b[0m \u001b[0mtfp\u001b[0m\u001b[0;34m:\u001b[0m\u001b[0;34m\u001b[0m\n",
      "\u001b[0;34m\u001b[0m            \u001b[0mresult\u001b[0m \u001b[0;34m=\u001b[0m \u001b[0mfilename\u001b[0m\u001b[0;34m,\u001b[0m \u001b[0mheaders\u001b[0m\u001b[0;34m\u001b[0m\n",
      "\u001b[0;34m\u001b[0m            \u001b[0mbs\u001b[0m \u001b[0;34m=\u001b[0m \u001b[0;36m1024\u001b[0m\u001b[0;34m*\u001b[0m\u001b[0;36m8\u001b[0m\u001b[0;34m\u001b[0m\n",
      "\u001b[0;34m\u001b[0m            \u001b[0msize\u001b[0m \u001b[0;34m=\u001b[0m \u001b[0;34m-\u001b[0m\u001b[0;36m1\u001b[0m\u001b[0;34m\u001b[0m\n",
      "\u001b[0;34m\u001b[0m            \u001b[0mread\u001b[0m \u001b[0;34m=\u001b[0m \u001b[0;36m0\u001b[0m\u001b[0;34m\u001b[0m\n",
      "\u001b[0;34m\u001b[0m            \u001b[0mblocknum\u001b[0m \u001b[0;34m=\u001b[0m \u001b[0;36m0\u001b[0m\u001b[0;34m\u001b[0m\n",
      "\u001b[0;34m\u001b[0m            \u001b[0;32mif\u001b[0m \u001b[0;34m\"content-length\"\u001b[0m \u001b[0;32min\u001b[0m \u001b[0mheaders\u001b[0m\u001b[0;34m:\u001b[0m\u001b[0;34m\u001b[0m\n",
      "\u001b[0;34m\u001b[0m                \u001b[0msize\u001b[0m \u001b[0;34m=\u001b[0m \u001b[0mint\u001b[0m\u001b[0;34m(\u001b[0m\u001b[0mheaders\u001b[0m\u001b[0;34m[\u001b[0m\u001b[0;34m\"Content-Length\"\u001b[0m\u001b[0;34m]\u001b[0m\u001b[0;34m)\u001b[0m\u001b[0;34m\u001b[0m\n",
      "\u001b[0;34m\u001b[0m\u001b[0;34m\u001b[0m\n",
      "\u001b[0;34m\u001b[0m            \u001b[0;32mif\u001b[0m \u001b[0mreporthook\u001b[0m\u001b[0;34m:\u001b[0m\u001b[0;34m\u001b[0m\n",
      "\u001b[0;34m\u001b[0m                \u001b[0mreporthook\u001b[0m\u001b[0;34m(\u001b[0m\u001b[0mblocknum\u001b[0m\u001b[0;34m,\u001b[0m \u001b[0mbs\u001b[0m\u001b[0;34m,\u001b[0m \u001b[0msize\u001b[0m\u001b[0;34m)\u001b[0m\u001b[0;34m\u001b[0m\n",
      "\u001b[0;34m\u001b[0m\u001b[0;34m\u001b[0m\n",
      "\u001b[0;34m\u001b[0m            \u001b[0;32mwhile\u001b[0m \u001b[0;32mTrue\u001b[0m\u001b[0;34m:\u001b[0m\u001b[0;34m\u001b[0m\n",
      "\u001b[0;34m\u001b[0m                \u001b[0mblock\u001b[0m \u001b[0;34m=\u001b[0m \u001b[0mfp\u001b[0m\u001b[0;34m.\u001b[0m\u001b[0mread\u001b[0m\u001b[0;34m(\u001b[0m\u001b[0mbs\u001b[0m\u001b[0;34m)\u001b[0m\u001b[0;34m\u001b[0m\n",
      "\u001b[0;34m\u001b[0m                \u001b[0;32mif\u001b[0m \u001b[0;32mnot\u001b[0m \u001b[0mblock\u001b[0m\u001b[0;34m:\u001b[0m\u001b[0;34m\u001b[0m\n",
      "\u001b[0;34m\u001b[0m                    \u001b[0;32mbreak\u001b[0m\u001b[0;34m\u001b[0m\n",
      "\u001b[0;34m\u001b[0m                \u001b[0mread\u001b[0m \u001b[0;34m+=\u001b[0m \u001b[0mlen\u001b[0m\u001b[0;34m(\u001b[0m\u001b[0mblock\u001b[0m\u001b[0;34m)\u001b[0m\u001b[0;34m\u001b[0m\n",
      "\u001b[0;34m\u001b[0m                \u001b[0mtfp\u001b[0m\u001b[0;34m.\u001b[0m\u001b[0mwrite\u001b[0m\u001b[0;34m(\u001b[0m\u001b[0mblock\u001b[0m\u001b[0;34m)\u001b[0m\u001b[0;34m\u001b[0m\n",
      "\u001b[0;34m\u001b[0m                \u001b[0mblocknum\u001b[0m \u001b[0;34m+=\u001b[0m \u001b[0;36m1\u001b[0m\u001b[0;34m\u001b[0m\n",
      "\u001b[0;34m\u001b[0m                \u001b[0;32mif\u001b[0m \u001b[0mreporthook\u001b[0m\u001b[0;34m:\u001b[0m\u001b[0;34m\u001b[0m\n",
      "\u001b[0;34m\u001b[0m                    \u001b[0mreporthook\u001b[0m\u001b[0;34m(\u001b[0m\u001b[0mblocknum\u001b[0m\u001b[0;34m,\u001b[0m \u001b[0mbs\u001b[0m\u001b[0;34m,\u001b[0m \u001b[0msize\u001b[0m\u001b[0;34m)\u001b[0m\u001b[0;34m\u001b[0m\n",
      "\u001b[0;34m\u001b[0m\u001b[0;34m\u001b[0m\n",
      "\u001b[0;34m\u001b[0m    \u001b[0;32mif\u001b[0m \u001b[0msize\u001b[0m \u001b[0;34m>=\u001b[0m \u001b[0;36m0\u001b[0m \u001b[0;32mand\u001b[0m \u001b[0mread\u001b[0m \u001b[0;34m<\u001b[0m \u001b[0msize\u001b[0m\u001b[0;34m:\u001b[0m\u001b[0;34m\u001b[0m\n",
      "\u001b[0;34m\u001b[0m        \u001b[0;32mraise\u001b[0m \u001b[0mContentTooShortError\u001b[0m\u001b[0;34m(\u001b[0m\u001b[0;34m\u001b[0m\n",
      "\u001b[0;34m\u001b[0m            \u001b[0;34m\"retrieval incomplete: got only %i out of %i bytes\"\u001b[0m\u001b[0;34m\u001b[0m\n",
      "\u001b[0;34m\u001b[0m            \u001b[0;34m%\u001b[0m \u001b[0;34m(\u001b[0m\u001b[0mread\u001b[0m\u001b[0;34m,\u001b[0m \u001b[0msize\u001b[0m\u001b[0;34m)\u001b[0m\u001b[0;34m,\u001b[0m \u001b[0mresult\u001b[0m\u001b[0;34m)\u001b[0m\u001b[0;34m\u001b[0m\n",
      "\u001b[0;34m\u001b[0m\u001b[0;34m\u001b[0m\n",
      "\u001b[0;34m\u001b[0m    \u001b[0;32mreturn\u001b[0m \u001b[0mresult\u001b[0m\u001b[0;34m\u001b[0m\u001b[0;34m\u001b[0m\u001b[0m\n",
      "\u001b[0;31mFile:\u001b[0m      /usr/lib/python3.11/urllib/request.py\n",
      "\u001b[0;31mType:\u001b[0m      function"
     ]
    }
   ],
   "source": [
    "urlretrieve??"
   ]
  },
  {
   "cell_type": "code",
   "execution_count": 100,
   "id": "009ec867-c933-49fc-9c6b-b866125452fb",
   "metadata": {},
   "outputs": [],
   "source": [
    "if not path_gz.exists(): urlretrieve(MNIST_URL, path_gz)"
   ]
  },
  {
   "cell_type": "code",
   "execution_count": 101,
   "id": "2899bbb8-c1b4-4e65-ae7d-846a8ccb7c33",
   "metadata": {},
   "outputs": [
    {
     "name": "stdout",
     "output_type": "stream",
     "text": [
      "mnist.pkl.gz\n"
     ]
    }
   ],
   "source": [
    "!ls -1 data"
   ]
  },
  {
   "cell_type": "code",
   "execution_count": 102,
   "id": "e446b50e-02a3-453a-9d37-d16d16bead3e",
   "metadata": {},
   "outputs": [],
   "source": [
    "with gzip.open(path_gz, \"rb\") as f: ((x_train, y_train), (x_valid, y_valid), _) = pickle.load(f, encoding=\"latin-1\")"
   ]
  },
  {
   "cell_type": "markdown",
   "id": "d833a943-92ff-4ea3-8ce6-5918c27701ae",
   "metadata": {},
   "source": [
    "I don't understand how you would know to destructure it like this though"
   ]
  },
  {
   "cell_type": "markdown",
   "id": "2420c11b-4b52-4c93-baea-d50fbfe34a30",
   "metadata": {},
   "source": [
    "- \"rb\" specifies that we want to read as binary\n",
    "- The tuples on the left of the expression are destructuring the data"
   ]
  },
  {
   "cell_type": "markdown",
   "id": "4f6829e9-d3fc-48d8-8e81-f6f5319c6b6f",
   "metadata": {},
   "source": [
    "- We convert to a list since the data will be returned as numpy"
   ]
  },
  {
   "cell_type": "code",
   "execution_count": 103,
   "id": "900cd702-ee66-44b0-a9eb-36ae687ce2b6",
   "metadata": {},
   "outputs": [
    {
     "data": {
      "text/plain": [
       "[0.0,\n",
       " 0.0,\n",
       " 0.0,\n",
       " 0.19140625,\n",
       " 0.9296875,\n",
       " 0.98828125,\n",
       " 0.98828125,\n",
       " 0.98828125,\n",
       " 0.98828125,\n",
       " 0.98828125]"
      ]
     },
     "execution_count": 103,
     "metadata": {},
     "output_type": "execute_result"
    }
   ],
   "source": [
    "lst1 = list(x_train[0])\n",
    "vals = lst1[200:210]\n",
    "vals"
   ]
  },
  {
   "cell_type": "markdown",
   "id": "e91c9a59-8e03-4627-a80f-cfe044a07e98",
   "metadata": {},
   "source": [
    "- This is a function for breaking up a list into chunks\n",
    "- We step through the list at the given chunk size\n",
    "- Yield allows us to return from this list withou breaking the loop so we can return each chunk of the list in an iterable\n",
    "- Iterables are things you can call next() on"
   ]
  },
  {
   "cell_type": "code",
   "execution_count": 104,
   "id": "2569c3d4-2055-40bb-a5b8-7ec942fa4868",
   "metadata": {},
   "outputs": [],
   "source": [
    "def chunks(x, size):\n",
    "    for i in range(0, len(x), size): yield x[i:i+size]"
   ]
  },
  {
   "cell_type": "code",
   "execution_count": 105,
   "id": "e14f8275-382b-4765-9ba5-8683bb538cc1",
   "metadata": {},
   "outputs": [
    {
     "data": {
      "text/plain": [
       "[[0.0, 0.0, 0.0, 0.19140625, 0.9296875],\n",
       " [0.98828125, 0.98828125, 0.98828125, 0.98828125, 0.98828125]]"
      ]
     },
     "execution_count": 105,
     "metadata": {},
     "output_type": "execute_result"
    }
   ],
   "source": [
    "list(chunks(vals, 5))"
   ]
  },
  {
   "cell_type": "code",
   "execution_count": 106,
   "id": "e66bc6d6-70a1-4734-8925-2a762a702582",
   "metadata": {},
   "outputs": [
    {
     "data": {
      "image/png": "[encoded data removed]",
      "text/plain": [
       "<Figure size 640x480 with 1 Axes>"
      ]
     },
     "metadata": {},
     "output_type": "display_data"
    }
   ],
   "source": [
    "mpl.rcParams[\"image.cmap\"] = \"gray\"\n",
    "plt.imshow(list(chunks(lst1, 28)));"
   ]
  },
  {
   "cell_type": "markdown",
   "id": "0567a574-62bd-42ba-a5f3-7cd9967069ca",
   "metadata": {},
   "source": [
    "## Iterators\n",
    "- Iterators are really important and they can often replace more complilcated pieces of software\n",
    "- They can process chunks of data sequentially without storing it all in memory"
   ]
  },
  {
   "cell_type": "code",
   "execution_count": 107,
   "id": "c203d56f-f185-4431-b644-5ddc15b66553",
   "metadata": {},
   "outputs": [],
   "source": [
    "from itertools import islice"
   ]
  },
  {
   "cell_type": "code",
   "execution_count": 108,
   "id": "b10425dc-082a-4353-b341-ec2b32abf880",
   "metadata": {},
   "outputs": [
    {
     "data": {
      "text/plain": [
       "<itertools.islice at 0x7f254f3c8040>"
      ]
     },
     "execution_count": 108,
     "metadata": {},
     "output_type": "execute_result"
    }
   ],
   "source": [
    "it = iter(vals)\n",
    "islice(it, 5)"
   ]
  },
  {
   "cell_type": "markdown",
   "id": "231b5002-e658-441b-9d6b-7adb9c09853a",
   "metadata": {},
   "source": [
    "- Can turn any list into an interator\n",
    "- islice converts it into a different kind of iterator\n",
    "- islice grabs the first n things from an iterable\n",
    "- This is interesting becuase we can make our own version of yield"
   ]
  },
  {
   "cell_type": "code",
   "execution_count": 109,
   "id": "405ec23b-ba35-4847-bc68-20e8949d92b4",
   "metadata": {},
   "outputs": [],
   "source": [
    "it = iter(lst1)\n",
    "img = list(iter(lambda: list(islice(it, 28)), []))"
   ]
  },
  {
   "cell_type": "markdown",
   "id": "7a48d826-dc11-4407-9166-eaa3a3caae19",
   "metadata": {},
   "source": [
    "- iter can take a list or a callable\n",
    "- a callable is generally a function x()\n",
    "- the callable function will be called until the function returns the value we pass to it ( [] )\n",
    "- [] will be returned when the islice is done"
   ]
  },
  {
   "cell_type": "code",
   "execution_count": 110,
   "id": "905af627-403f-46ed-bb4b-975be735bcb4",
   "metadata": {},
   "outputs": [
    {
     "data": {
      "image/png": "[encoded data removed]",
      "text/plain": [
       "<Figure size 640x480 with 1 Axes>"
      ]
     },
     "metadata": {},
     "output_type": "display_data"
    }
   ],
   "source": [
    "plt.imshow(img);"
   ]
  },
  {
   "cell_type": "markdown",
   "id": "3cdfdd7c-1f02-4812-9974-2cbce79d196a",
   "metadata": {},
   "source": [
    "## Matrix and Tensor\n",
    "- To access the values in our img list, we would have to index into them but we don't really want to do this\n",
    "- Instead we will create our own matrix class so we can treat the list like a matrix"
   ]
  },
  {
   "cell_type": "code",
   "execution_count": 111,
   "id": "09b54722-9765-495e-bdd0-88697ff72e2a",
   "metadata": {},
   "outputs": [],
   "source": [
    "class Matrix:\n",
    "    def __init__(self, xs):\n",
    "        self.xs = xs\n",
    "    def __getitem__(self, idxs):\n",
    "        return self.xs[idxs[0]][idxs[1]]"
   ]
  },
  {
   "cell_type": "markdown",
   "id": "fb62f464-88f1-4802-9533-86e5a27dfc6b",
   "metadata": {},
   "source": [
    "- __ __ are dunder methods are the standard python object methods\n",
    "- We need to define the behavior in these cases\n",
    "- When we initialize the Matrix, we pass in our values which is stored as an object attribute\n",
    "- We alose need a way to get things from our matrix. When we call [] on our object, python calls our __getitem__ method"
   ]
  },
  {
   "cell_type": "code",
   "execution_count": 112,
   "id": "3f9bceae-a2d4-4864-ba32-4f72f0062010",
   "metadata": {},
   "outputs": [
    {
     "data": {
      "text/plain": [
       "0.98828125"
      ]
     },
     "execution_count": 112,
     "metadata": {},
     "output_type": "execute_result"
    }
   ],
   "source": [
    "m = Matrix(img)\n",
    "m[20,15]"
   ]
  },
  {
   "cell_type": "code",
   "execution_count": 113,
   "id": "509c7799-f348-498b-8edb-5897cd07e117",
   "metadata": {},
   "outputs": [],
   "source": [
    "import torch\n",
    "from torch import tensor"
   ]
  },
  {
   "cell_type": "code",
   "execution_count": 114,
   "id": "d8146e5c-93c8-46d9-bd8a-fd5a5a382f67",
   "metadata": {},
   "outputs": [
    {
     "data": {
      "text/plain": [
       "tensor(0.9883)"
      ]
     },
     "execution_count": 114,
     "metadata": {},
     "output_type": "execute_result"
    }
   ],
   "source": [
    "tens = tensor(img)\n",
    "tens[20,15]"
   ]
  },
  {
   "cell_type": "markdown",
   "id": "57cca42b-5a3e-404f-91d6-6ed3d9db0deb",
   "metadata": {},
   "source": [
    "- Thus with our matrix class we have successfully implemented the basics of a tensor and we can now use the tensor object"
   ]
  },
  {
   "cell_type": "code",
   "execution_count": 115,
   "id": "3b91e6e4-5ae0-4f85-9868-ce12373ecafe",
   "metadata": {},
   "outputs": [
    {
     "data": {
      "text/plain": [
       "torch.Size([50000, 784])"
      ]
     },
     "execution_count": 115,
     "metadata": {},
     "output_type": "execute_result"
    }
   ],
   "source": [
    "x_train,y_train,x_valid,y_valid = map(tensor, (x_train,y_train,x_valid,y_valid))\n",
    "x_train.shape"
   ]
  },
  {
   "cell_type": "markdown",
   "id": "0d7ba904-91a7-47c0-931f-720346fee1e1",
   "metadata": {},
   "source": [
    "- map returns an interator that applies the function we give it to every item of the iterable and yields the results\n",
    "- In this case our tuple is the iterable and map will apply tensor to each list and return it which we can then save"
   ]
  },
  {
   "cell_type": "code",
   "execution_count": 116,
   "id": "66e5b293-4584-4dcc-9a09-1f88ae9dfd11",
   "metadata": {},
   "outputs": [
    {
     "data": {
      "text/plain": [
       "torch.Size([50000, 28, 28])"
      ]
     },
     "execution_count": 116,
     "metadata": {},
     "output_type": "execute_result"
    }
   ],
   "source": [
    "imgs = x_train.reshape([-1, 28, 28])\n",
    "imgs.shape"
   ]
  },
  {
   "cell_type": "markdown",
   "id": "b54047e2-6088-417e-8a08-8995bb4a0357",
   "metadata": {},
   "source": [
    "- This is the equivalent tensor method to our chunks function from before\n",
    "- reshape([50000, 28, 28]) is equivalent but we don't need to specify it"
   ]
  },
  {
   "cell_type": "code",
   "execution_count": 117,
   "id": "ccbda73e-7558-4b02-b99d-f290a9f2cecd",
   "metadata": {},
   "outputs": [
    {
     "data": {
      "text/plain": [
       "<matplotlib.image.AxesImage at 0x7f254f266590>"
      ]
     },
     "execution_count": 117,
     "metadata": {},
     "output_type": "execute_result"
    },
    {
     "data": {
      "image/png": "[encoded data removed]",
      "text/plain": [
       "<Figure size 640x480 with 1 Axes>"
      ]
     },
     "metadata": {},
     "output_type": "display_data"
    }
   ],
   "source": [
    "plt.imshow(imgs[0])"
   ]
  },
  {
   "cell_type": "markdown",
   "id": "07cd478e-12ac-4b41-95e2-e7256fe81935",
   "metadata": {},
   "source": [
    "#### What is a tensor?\n",
    "- Goes back to a language called APL\n",
    "- Mathematical notation for defining IBM systems\n",
    "- The creator of APL studied tensor analysis from physics\n",
    "- He implemented the functionality of physics tensors in code\n",
    "- This is good becasue we no longer have to write loops for everything, we can express them directly\n",
    "- APL calls these things arrays\n",
    "- Numpy calls them arrays\n",
    "- PyTorch calls them tensors\n",
    "- They are all the same thing\n",
    "- They are rectangular blocks of numbers with any number of dimensions\n",
    "\n",
    "##### Back to our code\n",
    "- Our tensor is a rank 3 tensor (3 dimensions)"
   ]
  },
  {
   "cell_type": "code",
   "execution_count": 118,
   "id": "d4065a4d-7432-4218-9fba-7e776870e14d",
   "metadata": {},
   "outputs": [
    {
     "data": {
      "text/plain": [
       "torch.Size([28, 28])"
      ]
     },
     "execution_count": 118,
     "metadata": {},
     "output_type": "execute_result"
    }
   ],
   "source": [
    "imgs[0].shape"
   ]
  },
  {
   "cell_type": "code",
   "execution_count": 119,
   "id": "3cc90bc9-f542-42a7-9497-2a8859929f58",
   "metadata": {},
   "outputs": [
    {
     "data": {
      "text/plain": [
       "tensor(0.9883)"
      ]
     },
     "execution_count": 119,
     "metadata": {},
     "output_type": "execute_result"
    }
   ],
   "source": [
    "imgs[0,20,15]"
   ]
  },
  {
   "cell_type": "code",
   "execution_count": 120,
   "id": "09fb9ae6-5cc3-44a1-acdb-924072237f93",
   "metadata": {},
   "outputs": [
    {
     "data": {
      "text/plain": [
       "torch.Size([50000, 784])"
      ]
     },
     "execution_count": 120,
     "metadata": {},
     "output_type": "execute_result"
    }
   ],
   "source": [
    "x_train.shape"
   ]
  },
  {
   "cell_type": "code",
   "execution_count": 121,
   "id": "13a5bdfd-40f9-4780-b1a3-abbdc4e7171a",
   "metadata": {},
   "outputs": [
    {
     "data": {
      "text/plain": [
       "(tensor([5, 0, 4,  ..., 8, 4, 8]), torch.Size([50000]))"
      ]
     },
     "execution_count": 121,
     "metadata": {},
     "output_type": "execute_result"
    }
   ],
   "source": [
    "n,c = x_train.shape\n",
    "y_train, y_train.shape"
   ]
  },
  {
   "cell_type": "code",
   "execution_count": 122,
   "id": "7d3a6968-b6c4-415b-bf1d-1403ce0c2cb1",
   "metadata": {},
   "outputs": [
    {
     "data": {
      "text/plain": [
       "(tensor(0), tensor(9))"
      ]
     },
     "execution_count": 122,
     "metadata": {},
     "output_type": "execute_result"
    }
   ],
   "source": [
    "min(y_train), max(y_train)"
   ]
  },
  {
   "cell_type": "markdown",
   "id": "3baf2386-bd5f-4ff4-9443-8eb5dec48a20",
   "metadata": {},
   "source": [
    "## Random Numbers\n",
    "- We don't actually need to build a random number generator since there is on included in the standard Python library but we will anyways because it is good to know\n",
    "- Computers cannot actually generate random numbers\n",
    "- There is a cool website where you can use and API to get random numbers generated by quantum fluctuations in a vacuum\n",
    "- CloudFlare uses a wall of lava lamps and a camera to generate random numbers\n",
    "- All these things can get you random numbers but they are kind of slow\n",
    "\n",
    "#### Sudo Random\n",
    "- Instead we use a sudo random number generator\n",
    "- Our sudo random number generator looks like it is returning randomly distributed numbers\n",
    "- For this we want our generator to return numbers that don't appear to be correlated and are evenly distributed over the range provided"
   ]
  },
  {
   "cell_type": "code",
   "execution_count": 123,
   "id": "f38c5d09-cfb0-4528-902b-aaeacd81e0a8",
   "metadata": {},
   "outputs": [],
   "source": [
    "rnd_state = None\n",
    "def seed(a):\n",
    "    global rnd_state\n",
    "    a, x = divmod(a, 30268)\n",
    "    a, y = divmod(a, 30306)\n",
    "    a, z = divmod(a, 30322)\n",
    "    rnd_state = int(x)+1, int(y)+1, int(z)+1"
   ]
  },
  {
   "cell_type": "code",
   "execution_count": 124,
   "id": "dec18c16-5eba-4375-8af3-917340d924c7",
   "metadata": {},
   "outputs": [
    {
     "data": {
      "text/plain": [
       "(24701, 14214, 1826)"
      ]
     },
     "execution_count": 124,
     "metadata": {},
     "output_type": "execute_result"
    }
   ],
   "source": [
    "seed(21029384710239840)\n",
    "rnd_state"
   ]
  },
  {
   "cell_type": "code",
   "execution_count": 125,
   "id": "ca71d993-1e63-4882-a0d7-6a8c132a79d5",
   "metadata": {},
   "outputs": [],
   "source": [
    "def rand():\n",
    "    global rnd_state\n",
    "    x, y, z = rnd_state\n",
    "    x = (171 * x) % 30296\n",
    "    y = (172 * y) % 30307\n",
    "    z = (170 * z) % 30323\n",
    "    rnd_state = x,y,z\n",
    "    return (x/30296 + y/30307 + z/30323) % 1.0"
   ]
  },
  {
   "cell_type": "code",
   "execution_count": 126,
   "id": "db91977d-7f55-4813-87e7-b4b15f4e162a",
   "metadata": {},
   "outputs": [
    {
     "data": {
      "text/plain": [
       "(0.3252986819280379, 0.05705734701170684, 0.3600646416501161)"
      ]
     },
     "execution_count": 126,
     "metadata": {},
     "output_type": "execute_result"
    }
   ],
   "source": [
    "rand(), rand(), rand()"
   ]
  },
  {
   "cell_type": "code",
   "execution_count": 127,
   "id": "36dd8715-731d-4c08-938c-df67de091bf7",
   "metadata": {},
   "outputs": [
    {
     "name": "stdout",
     "output_type": "stream",
     "text": [
      "In parent: 0.9501540726215909\n",
      "In child: 0.9501540726215909\n"
     ]
    }
   ],
   "source": [
    "if os.fork(): print(f\"In parent: {rand()}\")\n",
    "else:\n",
    "    print(f\"In child: {rand()}\")\n",
    "    os._exit(os.EX_OK)"
   ]
  },
  {
   "cell_type": "code",
   "execution_count": 128,
   "id": "734e5d3e-ddf0-44a1-8250-040920a524b1",
   "metadata": {},
   "outputs": [
    {
     "name": "stdout",
     "output_type": "stream",
     "text": [
      "In parent: tensor([0.9290])\n",
      "In child: tensor([0.9290])\n"
     ]
    }
   ],
   "source": [
    "if os.fork(): print(f\"In parent: {torch.rand(1)}\")\n",
    "else:\n",
    "    print(f\"In child: {torch.rand(1)}\")\n",
    "    os._exit(os.EX_OK)"
   ]
  },
  {
   "cell_type": "code",
   "execution_count": 129,
   "id": "8c435e13-c682-48a4-8a3d-cbc68e43e745",
   "metadata": {},
   "outputs": [],
   "source": [
    "from random import random"
   ]
  },
  {
   "cell_type": "code",
   "execution_count": 130,
   "id": "e22bb18f-9c69-4a2c-8887-078d5487d56a",
   "metadata": {},
   "outputs": [
    {
     "name": "stdout",
     "output_type": "stream",
     "text": [
      "In parent: 0.028080399441410053\n",
      "In child: 0.00847520186225581\n"
     ]
    }
   ],
   "source": [
    "if os.fork(): print(f\"In parent: {random()}\")\n",
    "else:\n",
    "    print(f\"In child: {random()}\")\n",
    "    os._exit(os.EX_OK)"
   ]
  },
  {
   "cell_type": "markdown",
   "id": "4d4ae381-69bf-4151-8a33-cddbfacaf339",
   "metadata": {},
   "source": [
    "- Need to remember that random number generators rely on the this global rnd_state\n",
    "- if we use os.fork() it will create a whole seperate copy of this python process\n",
    "- If we try and create random numbers in these processes, we will get the same number since the processes are copies of one another\n",
    "- This comes up in deep learning becasue we often do parallel processing\n",
    "- To get truly random numbers in parallel processing, you need to initialize the random generator in each process\n",
    "- PyTorch, and NumPy fail to do this but the Python standard library works"
   ]
  },
  {
   "cell_type": "code",
   "execution_count": 131,
   "id": "9b1a72b6-8471-4040-8e39-fe05ec651895",
   "metadata": {},
   "outputs": [
    {
     "name": "stdout",
     "output_type": "stream",
     "text": [
      "2.85 ms ± 104 µs per loop (mean ± std. dev. of 7 runs, 10 loops each)\n"
     ]
    }
   ],
   "source": [
    "%timeit -n 10 list(chunks([rand() for _ in range(7840)], 10))"
   ]
  },
  {
   "cell_type": "code",
   "execution_count": 132,
   "id": "2842057d-69e7-48c0-adfd-173319c287f2",
   "metadata": {},
   "outputs": [
    {
     "name": "stdout",
     "output_type": "stream",
     "text": [
      "The slowest run took 4.19 times longer than the fastest. This could mean that an intermediate result is being cached.\n",
      "51.5 µs ± 31.3 µs per loop (mean ± std. dev. of 7 runs, 10 loops each)\n"
     ]
    }
   ],
   "source": [
    "%timeit -n 10 torch.randn(784, 10)"
   ]
  },
  {
   "cell_type": "markdown",
   "id": "ed119dc9-da23-44db-a006-8f1a3d8a6da5",
   "metadata": {},
   "source": [
    "- These both do the same thing but the PyTorch version is orders of magnitude quicker so we will use the PyTorch version and not ours for training models"
   ]
  },
  {
   "cell_type": "markdown",
   "id": "08ad6fbc-d38d-47a3-aa60-23d9711d475f",
   "metadata": {},
   "source": [
    "### Matric Multiplication\n",
    "Now we need to implement the ability to multiply our matrices"
   ]
  },
  {
   "cell_type": "code",
   "execution_count": 133,
   "id": "f0e6bcb6-fed3-4208-844f-aa290457e7b9",
   "metadata": {},
   "outputs": [],
   "source": [
    "torch.manual_seed(1)\n",
    "weights = torch.rand(784,10)\n",
    "bias = torch.zeros(10)"
   ]
  },
  {
   "cell_type": "code",
   "execution_count": 134,
   "id": "44d6dba9-2c37-4bc0-8f7f-f4057370caf0",
   "metadata": {},
   "outputs": [],
   "source": [
    "m1 = x_valid[:5]\n",
    "m2 = weights"
   ]
  },
  {
   "cell_type": "code",
   "execution_count": 135,
   "id": "5371c672-802d-4f41-969d-d302b4004d78",
   "metadata": {},
   "outputs": [
    {
     "data": {
      "text/plain": [
       "(torch.Size([5, 784]), torch.Size([784, 10]))"
      ]
     },
     "execution_count": 135,
     "metadata": {},
     "output_type": "execute_result"
    }
   ],
   "source": [
    "m1.shape, m2.shape"
   ]
  },
  {
   "cell_type": "code",
   "execution_count": 136,
   "id": "094e370e-c90b-4812-9bcd-e58fe53210c8",
   "metadata": {},
   "outputs": [
    {
     "data": {
      "text/plain": [
       "((5, 784), (784, 10))"
      ]
     },
     "execution_count": 136,
     "metadata": {},
     "output_type": "execute_result"
    }
   ],
   "source": [
    "ar,ac = m1.shape\n",
    "br,bc = m2.shape\n",
    "(ar,ac), (br, bc)"
   ]
  },
  {
   "cell_type": "code",
   "execution_count": 137,
   "id": "17bedfa8-40c0-4d1b-abcf-4312cec7d652",
   "metadata": {},
   "outputs": [
    {
     "data": {
      "text/plain": [
       "torch.Size([5, 10])"
      ]
     },
     "execution_count": 137,
     "metadata": {},
     "output_type": "execute_result"
    }
   ],
   "source": [
    "t1 = torch.zeros(ar, bc)\n",
    "t1.shape"
   ]
  },
  {
   "cell_type": "code",
   "execution_count": 138,
   "id": "5eb8116f-f8e9-4b13-97d0-0c0912aa1f57",
   "metadata": {},
   "outputs": [],
   "source": [
    "for i in range(ar):\n",
    "    for j in range(bc):\n",
    "        for k in range(ac):\n",
    "            t1[i,j] += m1[i,k] * m2 [k,j]"
   ]
  },
  {
   "cell_type": "code",
   "execution_count": 139,
   "id": "c9695f0c-bf28-4102-8273-75bc813c7d32",
   "metadata": {},
   "outputs": [
    {
     "data": {
      "text/plain": [
       "tensor([[46.6636, 43.0262, 48.5570, 46.9266, 44.9626, 43.0611, 36.7986, 46.3429,\n",
       "         51.7943, 43.6182],\n",
       "        [43.3006, 44.5781, 48.1564, 46.7842, 39.7537, 48.0385, 40.7752, 46.8513,\n",
       "         50.8835, 45.7565],\n",
       "        [40.5090, 40.6744, 42.5173, 40.5222, 39.4232, 40.5739, 38.8814, 41.3914,\n",
       "         44.3403, 39.6398],\n",
       "        [41.0770, 36.0778, 43.2215, 40.4301, 37.2713, 37.2804, 39.5606, 38.0567,\n",
       "         39.6794, 36.7342],\n",
       "        [55.4875, 50.5413, 49.9963, 57.0323, 49.8134, 52.8530, 53.3208, 52.9511,\n",
       "         53.9894, 49.0043]])"
      ]
     },
     "execution_count": 139,
     "metadata": {},
     "output_type": "execute_result"
    }
   ],
   "source": [
    "t1"
   ]
  },
  {
   "cell_type": "code",
   "execution_count": 140,
   "id": "5d329dae-93a2-40cd-a8fc-6b4aad2ffe2e",
   "metadata": {},
   "outputs": [
    {
     "data": {
      "text/plain": [
       "torch.Size([5, 10])"
      ]
     },
     "execution_count": 140,
     "metadata": {},
     "output_type": "execute_result"
    }
   ],
   "source": [
    "t1.shape"
   ]
  },
  {
   "cell_type": "code",
   "execution_count": 141,
   "id": "8160e705-f658-4a82-a714-91c0a9454ef0",
   "metadata": {},
   "outputs": [],
   "source": [
    "torch.set_printoptions(precision=2, linewidth=140, sci_mode=False)"
   ]
  },
  {
   "cell_type": "code",
   "execution_count": 142,
   "id": "2f4263b5-66b9-44c2-a8eb-7e782ffc6844",
   "metadata": {},
   "outputs": [
    {
     "data": {
      "text/plain": [
       "tensor([[46.66, 43.03, 48.56, 46.93, 44.96, 43.06, 36.80, 46.34, 51.79, 43.62],\n",
       "        [43.30, 44.58, 48.16, 46.78, 39.75, 48.04, 40.78, 46.85, 50.88, 45.76],\n",
       "        [40.51, 40.67, 42.52, 40.52, 39.42, 40.57, 38.88, 41.39, 44.34, 39.64],\n",
       "        [41.08, 36.08, 43.22, 40.43, 37.27, 37.28, 39.56, 38.06, 39.68, 36.73],\n",
       "        [55.49, 50.54, 50.00, 57.03, 49.81, 52.85, 53.32, 52.95, 53.99, 49.00]])"
      ]
     },
     "execution_count": 142,
     "metadata": {},
     "output_type": "execute_result"
    }
   ],
   "source": [
    "t1"
   ]
  },
  {
   "cell_type": "code",
   "execution_count": 143,
   "id": "c4273e84-e0cc-4189-99dc-5eb5f00a2a3d",
   "metadata": {},
   "outputs": [],
   "source": [
    "import numpy as np\n",
    "np.set_printoptions(precision=2, linewidth=140)"
   ]
  },
  {
   "cell_type": "code",
   "execution_count": 144,
   "id": "538e2d9a-11f3-4da1-9dec-6e68f90b3f4f",
   "metadata": {},
   "outputs": [],
   "source": [
    "def matmul(a, b):\n",
    "    (ar,ac),(br,bc) = a.shape, b.shape\n",
    "    c = torch.zeros(ar, bc)\n",
    "    for i in range(ar):\n",
    "        for j in range(bc):\n",
    "            for k in range(ac):\n",
    "                c[i,j] += a[i,k]*b[k,j]"
   ]
  },
  {
   "cell_type": "code",
   "execution_count": 145,
   "id": "c028fb35-d648-4131-957e-0a240f2f14a5",
   "metadata": {},
   "outputs": [
    {
     "name": "stdout",
     "output_type": "stream",
     "text": [
      "CPU times: user 403 ms, sys: 131 µs, total: 404 ms\n",
      "Wall time: 403 ms\n"
     ]
    }
   ],
   "source": [
    "%time _=matmul(m1, m2)"
   ]
  },
  {
   "cell_type": "markdown",
   "id": "60f8c813-12ac-4f27-81ca-ae9fa2efabe9",
   "metadata": {},
   "source": [
    "#### Numba"
   ]
  },
  {
   "cell_type": "code",
   "execution_count": 146,
   "id": "5abdff64-9d29-455d-bbcb-ec9588381937",
   "metadata": {},
   "outputs": [
    {
     "name": "stdout",
     "output_type": "stream",
     "text": [
      "Requirement already satisfied: numba in /usr/local/lib/python3.11/dist-packages (0.60.0)\n",
      "Requirement already satisfied: llvmlite<0.44,>=0.43.0dev0 in /usr/local/lib/python3.11/dist-packages (from numba) (0.43.0)\n",
      "Requirement already satisfied: numpy<2.1,>=1.22 in /usr/local/lib/python3.11/dist-packages (from numba) (1.26.4)\n"
     ]
    },
    {
     "name": "stdout",
     "output_type": "stream",
     "text": [
      "\u001b[33mWARNING: Running pip as the 'root' user can result in broken permissions and conflicting behaviour with the system package manager. It is recommended to use a virtual environment instead: https://pip.pypa.io/warnings/venv\u001b[0m\u001b[33m\n",
      "\u001b[0m\n",
      "\u001b[1m[\u001b[0m\u001b[34;49mnotice\u001b[0m\u001b[1;39;49m]\u001b[0m\u001b[39;49m A new release of pip is available: \u001b[0m\u001b[31;49m24.0\u001b[0m\u001b[39;49m -> \u001b[0m\u001b[32;49m24.2\u001b[0m\n",
      "\u001b[1m[\u001b[0m\u001b[34;49mnotice\u001b[0m\u001b[1;39;49m]\u001b[0m\u001b[39;49m To update, run: \u001b[0m\u001b[32;49mpython3 -m pip install --upgrade pip\u001b[0m\n"
     ]
    }
   ],
   "source": [
    "!pip install numba"
   ]
  },
  {
   "cell_type": "code",
   "execution_count": 147,
   "id": "c1ba0e45-87c4-48ef-b028-3cf45c5f44a3",
   "metadata": {},
   "outputs": [],
   "source": [
    "from numba import njit\n",
    "from numpy import array"
   ]
  },
  {
   "cell_type": "code",
   "execution_count": 148,
   "id": "cfeedbe4-990d-45a7-8a5a-04764fce7a53",
   "metadata": {},
   "outputs": [],
   "source": [
    "@njit\n",
    "def dot(a,b):\n",
    "    res = 0\n",
    "    for i in range(len(a)): res += a[i]*b[i]\n",
    "    return res"
   ]
  },
  {
   "cell_type": "code",
   "execution_count": 149,
   "id": "9d66991f-61a9-4e5f-b87c-92a5089c3971",
   "metadata": {},
   "outputs": [
    {
     "name": "stdout",
     "output_type": "stream",
     "text": [
      "CPU times: user 1.35 s, sys: 50.9 ms, total: 1.4 s\n",
      "Wall time: 340 ms\n"
     ]
    },
    {
     "data": {
      "text/plain": [
       "20.0"
      ]
     },
     "execution_count": 149,
     "metadata": {},
     "output_type": "execute_result"
    }
   ],
   "source": [
    "%time dot(array([1.,2,3]),array([2.,3,4]))"
   ]
  },
  {
   "cell_type": "markdown",
   "id": "a3651d1a-5cb0-4a6f-bd1d-1b91a0800c55",
   "metadata": {},
   "source": [
    "Numba will compile our code as machine code so the first time we run it, it will be slow but after that it will execute much more quicly."
   ]
  },
  {
   "cell_type": "code",
   "execution_count": 150,
   "id": "eec65dcc-95cf-4019-9086-31361f884c7c",
   "metadata": {},
   "outputs": [],
   "source": [
    "def matmul(a, b):\n",
    "    (ar,ac),(br,bc) = a.shape, b.shape\n",
    "    c = torch.zeros(ar, bc)\n",
    "    for i in range(ar):\n",
    "        for j in range(bc):\n",
    "            c[i,j] = dot(a[i,:], b[:,j])\n",
    "    return c"
   ]
  },
  {
   "cell_type": "code",
   "execution_count": 151,
   "id": "e61c1a6b-5b18-4b12-91af-1f7e33e01999",
   "metadata": {},
   "outputs": [],
   "source": [
    "m1a, m2a = m1.numpy(), m2.numpy()"
   ]
  },
  {
   "cell_type": "code",
   "execution_count": 152,
   "id": "2bd2af2a-618d-446e-a0bc-da90e6a2e99d",
   "metadata": {},
   "outputs": [],
   "source": [
    "from fastcore.test import *"
   ]
  },
  {
   "cell_type": "code",
   "execution_count": 153,
   "id": "05df5902-b768-4e2b-9a8b-473be6391a8f",
   "metadata": {},
   "outputs": [
    {
     "name": "stdout",
     "output_type": "stream",
     "text": [
      "The slowest run took 6.19 times longer than the fastest. This could mean that an intermediate result is being cached.\n",
      "413 µs ± 423 µs per loop (mean ± std. dev. of 7 runs, 50 loops each)\n"
     ]
    }
   ],
   "source": [
    "%timeit -n 50 matmul(m1a, m2a)"
   ]
  },
  {
   "cell_type": "markdown",
   "id": "c863a765-7bfc-4c1d-ac90-d480f0f91f66",
   "metadata": {},
   "source": [
    "#### Elementwise Ops"
   ]
  },
  {
   "cell_type": "code",
   "execution_count": 154,
   "id": "206f46e7-17d8-47f3-bb81-f9978a5bb7e6",
   "metadata": {},
   "outputs": [
    {
     "data": {
      "text/plain": [
       "(tensor([10.,  6., -4.]), tensor([2., 8., 7.]))"
      ]
     },
     "execution_count": 154,
     "metadata": {},
     "output_type": "execute_result"
    }
   ],
   "source": [
    "a = tensor([10., 6, -4])\n",
    "b = tensor([2., 8, 7])\n",
    "a,b"
   ]
  },
  {
   "cell_type": "code",
   "execution_count": 155,
   "id": "ce188f5a-703e-4dd8-9bc6-92623df442a3",
   "metadata": {},
   "outputs": [
    {
     "data": {
      "text/plain": [
       "tensor([12., 14.,  3.])"
      ]
     },
     "execution_count": 155,
     "metadata": {},
     "output_type": "execute_result"
    }
   ],
   "source": [
    "a + b"
   ]
  },
  {
   "cell_type": "code",
   "execution_count": 156,
   "id": "729466b9-de5f-4c9d-803e-11e7fc199dc7",
   "metadata": {},
   "outputs": [
    {
     "data": {
      "text/plain": [
       "tensor(0.67)"
      ]
     },
     "execution_count": 156,
     "metadata": {},
     "output_type": "execute_result"
    }
   ],
   "source": [
    "(a < b).float().mean()"
   ]
  },
  {
   "cell_type": "code",
   "execution_count": 157,
   "id": "432787c2-5600-4bb9-9982-4955a5ff7133",
   "metadata": {},
   "outputs": [
    {
     "data": {
      "text/plain": [
       "tensor([[1., 2., 3.],\n",
       "        [4., 5., 6.],\n",
       "        [7., 8., 9.]])"
      ]
     },
     "execution_count": 157,
     "metadata": {},
     "output_type": "execute_result"
    }
   ],
   "source": [
    "m = tensor([[1.,2,3],[4,5,6],[7,8,9]]); m"
   ]
  },
  {
   "cell_type": "markdown",
   "id": "cf2b95a0-e61f-4175-8815-2ea06bf77fa2",
   "metadata": {},
   "source": [
    "**Frobenius Norm**"
   ]
  },
  {
   "cell_type": "code",
   "execution_count": 158,
   "id": "1c2b1ae4-2243-45c0-af9f-f4a4e2eaea1a",
   "metadata": {},
   "outputs": [
    {
     "data": {
      "text/plain": [
       "tensor(285.)"
      ]
     },
     "execution_count": 158,
     "metadata": {},
     "output_type": "execute_result"
    }
   ],
   "source": [
    "sf = (m*m).sum()\n",
    "sf"
   ]
  },
  {
   "cell_type": "code",
   "execution_count": 159,
   "id": "a27d9c19-c81b-4ff0-ab2f-947ae7f8672a",
   "metadata": {},
   "outputs": [
    {
     "data": {
      "text/plain": [
       "tensor(16.88)"
      ]
     },
     "execution_count": 159,
     "metadata": {},
     "output_type": "execute_result"
    }
   ],
   "source": [
    "sf.sqrt()"
   ]
  },
  {
   "cell_type": "code",
   "execution_count": 160,
   "id": "98254f3a-ba04-4fde-9e18-2dc09f369e18",
   "metadata": {},
   "outputs": [
    {
     "data": {
      "text/plain": [
       "(tensor([[7., 8., 9.]]), tensor([3., 6., 9.]))"
      ]
     },
     "execution_count": 160,
     "metadata": {},
     "output_type": "execute_result"
    }
   ],
   "source": [
    "m[2:],m[:,2]"
   ]
  },
  {
   "cell_type": "code",
   "execution_count": 161,
   "id": "a6c1c498-4323-4cc7-a6fd-9eb1a6776f8f",
   "metadata": {},
   "outputs": [
    {
     "data": {
      "text/plain": [
       "tensor([7., 8., 9.])"
      ]
     },
     "execution_count": 161,
     "metadata": {},
     "output_type": "execute_result"
    }
   ],
   "source": [
    "m[2]"
   ]
  },
  {
   "cell_type": "code",
   "execution_count": 162,
   "id": "c85ddec8-e654-49e4-b178-2dc688d194e2",
   "metadata": {},
   "outputs": [],
   "source": [
    "def matmul(a, b):\n",
    "    (ar,ac),(br,bc) = a.shape, b.shape\n",
    "    c = torch.zeros(ar, bc)\n",
    "    for i in range(ar):\n",
    "        for j in range(bc):\n",
    "            c[i,j] = (a[i,:] * b[:,j]).sum()\n",
    "    return c"
   ]
  },
  {
   "cell_type": "code",
   "execution_count": 163,
   "id": "78319cb4-d4ee-46d7-8d03-4971d7ff7ba7",
   "metadata": {},
   "outputs": [
    {
     "name": "stdout",
     "output_type": "stream",
     "text": [
      "619 µs ± 78.7 µs per loop (mean ± std. dev. of 7 runs, 50 loops each)\n"
     ]
    }
   ],
   "source": [
    "%timeit -n 50 matmul(m1, m2)"
   ]
  },
  {
   "cell_type": "code",
   "execution_count": 164,
   "id": "0b5377e3-ba83-4dc3-bb1c-40c743d6c186",
   "metadata": {},
   "outputs": [],
   "source": [
    "def matmul(a, b):\n",
    "    (ar,ac),(br,bc) = a.shape, b.shape\n",
    "    c = torch.zeros(ar, bc)\n",
    "    for i in range(ar):\n",
    "        for j in range(bc):\n",
    "            c[i,j] = torch.dot(a[i,:], b[:,j])\n",
    "    return c"
   ]
  },
  {
   "cell_type": "code",
   "execution_count": 165,
   "id": "ae6b7647-d035-4e17-98fe-20ccea256971",
   "metadata": {},
   "outputs": [
    {
     "name": "stdout",
     "output_type": "stream",
     "text": [
      "513 µs ± 34.5 µs per loop (mean ± std. dev. of 7 runs, 50 loops each)\n"
     ]
    }
   ],
   "source": [
    "%timeit -n 50 matmul(m1, m2)"
   ]
  },
  {
   "cell_type": "markdown",
   "id": "cadbf877-0060-422e-b8f7-28c2d57424c6",
   "metadata": {},
   "source": [
    "### Broadcasting\n",
    "The term broadcasting describes how arrays with different shapes are traed during arithmetic operations\n",
    "\n",
    "#### Broadcasting with a scalar"
   ]
  },
  {
   "cell_type": "code",
   "execution_count": 166,
   "id": "d9f09f5a-ac04-4c3a-a29f-e82b8ef8abfd",
   "metadata": {},
   "outputs": [
    {
     "data": {
      "text/plain": [
       "tensor([10.,  6., -4.])"
      ]
     },
     "execution_count": 166,
     "metadata": {},
     "output_type": "execute_result"
    }
   ],
   "source": [
    "a"
   ]
  },
  {
   "cell_type": "code",
   "execution_count": 167,
   "id": "3b4c85e1-a728-48cb-9f2f-65a38f25ccb0",
   "metadata": {},
   "outputs": [
    {
     "data": {
      "text/plain": [
       "tensor([ True,  True, False])"
      ]
     },
     "execution_count": 167,
     "metadata": {},
     "output_type": "execute_result"
    }
   ],
   "source": [
    "a > 0"
   ]
  },
  {
   "cell_type": "code",
   "execution_count": 168,
   "id": "bfb640c9-505c-4cf0-a000-e2b8306b1787",
   "metadata": {},
   "outputs": [
    {
     "data": {
      "text/plain": [
       "tensor([11.,  7., -3.])"
      ]
     },
     "execution_count": 168,
     "metadata": {},
     "output_type": "execute_result"
    }
   ],
   "source": [
    "a + 1"
   ]
  },
  {
   "cell_type": "code",
   "execution_count": 169,
   "id": "e4402e86-2f9c-469c-989c-124cdbf197dc",
   "metadata": {},
   "outputs": [
    {
     "data": {
      "text/plain": [
       "tensor([[1., 2., 3.],\n",
       "        [4., 5., 6.],\n",
       "        [7., 8., 9.]])"
      ]
     },
     "execution_count": 169,
     "metadata": {},
     "output_type": "execute_result"
    }
   ],
   "source": [
    "m"
   ]
  },
  {
   "cell_type": "code",
   "execution_count": 170,
   "id": "98dbfe6e-1eaa-49b6-a5f5-557527bce50a",
   "metadata": {},
   "outputs": [
    {
     "data": {
      "text/plain": [
       "tensor([[ 2.,  4.,  6.],\n",
       "        [ 8., 10., 12.],\n",
       "        [14., 16., 18.]])"
      ]
     },
     "execution_count": 170,
     "metadata": {},
     "output_type": "execute_result"
    }
   ],
   "source": [
    "2*m"
   ]
  },
  {
   "cell_type": "markdown",
   "id": "c0b38ce9-8ea0-4fce-85ae-c811bb52c768",
   "metadata": {},
   "source": [
    "#### Broadcasting a vecor to a matrix"
   ]
  },
  {
   "cell_type": "code",
   "execution_count": 171,
   "id": "c3902c56-8f3f-4258-a84b-391632fb0a93",
   "metadata": {},
   "outputs": [
    {
     "data": {
      "text/plain": [
       "tensor([10., 20., 30.])"
      ]
     },
     "execution_count": 171,
     "metadata": {},
     "output_type": "execute_result"
    }
   ],
   "source": [
    "c = tensor([10.,20,30]); c"
   ]
  },
  {
   "cell_type": "code",
   "execution_count": 172,
   "id": "f399ede6-f066-492a-a815-a0873366fd0d",
   "metadata": {},
   "outputs": [
    {
     "data": {
      "text/plain": [
       "tensor([[1., 2., 3.],\n",
       "        [4., 5., 6.],\n",
       "        [7., 8., 9.]])"
      ]
     },
     "execution_count": 172,
     "metadata": {},
     "output_type": "execute_result"
    }
   ],
   "source": [
    "m"
   ]
  },
  {
   "cell_type": "code",
   "execution_count": 173,
   "id": "460ee28b-be10-4631-ad5f-4ff0974b2382",
   "metadata": {},
   "outputs": [
    {
     "data": {
      "text/plain": [
       "(torch.Size([3, 3]), torch.Size([3]))"
      ]
     },
     "execution_count": 173,
     "metadata": {},
     "output_type": "execute_result"
    }
   ],
   "source": [
    "m.shape,c.shape"
   ]
  },
  {
   "cell_type": "code",
   "execution_count": 174,
   "id": "f9e10760-c77c-4f9d-8781-013124dd5128",
   "metadata": {},
   "outputs": [
    {
     "data": {
      "text/plain": [
       "tensor([[11., 22., 33.],\n",
       "        [14., 25., 36.],\n",
       "        [17., 28., 39.]])"
      ]
     },
     "execution_count": 174,
     "metadata": {},
     "output_type": "execute_result"
    }
   ],
   "source": [
    "m + c"
   ]
  },
  {
   "cell_type": "code",
   "execution_count": 175,
   "id": "9fa7aba3-6254-48aa-a56b-a48d33b99a3b",
   "metadata": {},
   "outputs": [
    {
     "data": {
      "text/plain": [
       "tensor([[11., 22., 33.],\n",
       "        [14., 25., 36.],\n",
       "        [17., 28., 39.]])"
      ]
     },
     "execution_count": 175,
     "metadata": {},
     "output_type": "execute_result"
    }
   ],
   "source": [
    "c + m"
   ]
  },
  {
   "cell_type": "code",
   "execution_count": 176,
   "id": "cc3af8e9-cc8e-4363-ac86-686e1bc01402",
   "metadata": {},
   "outputs": [],
   "source": [
    "t = c.expand_as(m)"
   ]
  },
  {
   "cell_type": "code",
   "execution_count": 177,
   "id": "d2b283ed-77b5-4a79-a6c3-1f2caea1f7cb",
   "metadata": {},
   "outputs": [
    {
     "data": {
      "text/plain": [
       "tensor([[10., 20., 30.],\n",
       "        [10., 20., 30.],\n",
       "        [10., 20., 30.]])"
      ]
     },
     "execution_count": 177,
     "metadata": {},
     "output_type": "execute_result"
    }
   ],
   "source": [
    "t"
   ]
  },
  {
   "cell_type": "code",
   "execution_count": 178,
   "id": "d7cf4a2e-73c4-42f1-996e-719ea8d2db79",
   "metadata": {},
   "outputs": [
    {
     "data": {
      "text/plain": [
       "tensor([[11., 22., 33.],\n",
       "        [14., 25., 36.],\n",
       "        [17., 28., 39.]])"
      ]
     },
     "execution_count": 178,
     "metadata": {},
     "output_type": "execute_result"
    }
   ],
   "source": [
    "m + t"
   ]
  },
  {
   "cell_type": "code",
   "execution_count": 179,
   "id": "4fb93a40-8b57-4f09-983c-487078725a80",
   "metadata": {},
   "outputs": [
    {
     "name": "stderr",
     "output_type": "stream",
     "text": [
      "/tmp/ipykernel_2236/1911556638.py:1: UserWarning: TypedStorage is deprecated. It will be removed in the future and UntypedStorage will be the only storage class. This should only matter to you if you are using storages directly.  To access UntypedStorage directly, use tensor.untyped_storage() instead of tensor.storage()\n",
      "  t.storage()\n"
     ]
    },
    {
     "data": {
      "text/plain": [
       " 10.0\n",
       " 20.0\n",
       " 30.0\n",
       "[torch.storage.TypedStorage(dtype=torch.float32, device=cpu) of size 3]"
      ]
     },
     "execution_count": 179,
     "metadata": {},
     "output_type": "execute_result"
    }
   ],
   "source": [
    "t.storage()"
   ]
  },
  {
   "cell_type": "code",
   "execution_count": 180,
   "id": "ea525524-09fc-48a4-8c7f-da38010ab130",
   "metadata": {},
   "outputs": [
    {
     "data": {
      "text/plain": [
       "((0, 1), torch.Size([3, 3]))"
      ]
     },
     "execution_count": 180,
     "metadata": {},
     "output_type": "execute_result"
    }
   ],
   "source": [
    "t.stride(),t.shape"
   ]
  },
  {
   "cell_type": "code",
   "execution_count": 181,
   "id": "22836f1c-a540-46d0-86bc-65efbeb206ef",
   "metadata": {},
   "outputs": [
    {
     "data": {
      "text/plain": [
       "(tensor([[10., 20., 30.]]), tensor([[10., 20., 30.]]))"
      ]
     },
     "execution_count": 181,
     "metadata": {},
     "output_type": "execute_result"
    }
   ],
   "source": [
    "c.unsqueeze(0), c[None, :]"
   ]
  },
  {
   "cell_type": "code",
   "execution_count": 182,
   "id": "5d5f1a1e-3d27-4ed5-ad5d-0ffd7fb34d84",
   "metadata": {},
   "outputs": [
    {
     "data": {
      "text/plain": [
       "(torch.Size([3]), torch.Size([1, 3]))"
      ]
     },
     "execution_count": 182,
     "metadata": {},
     "output_type": "execute_result"
    }
   ],
   "source": [
    "c.shape, c.unsqueeze(0).shape"
   ]
  },
  {
   "cell_type": "code",
   "execution_count": 183,
   "id": "eeabf79f-ef4f-4643-9781-6ee210425637",
   "metadata": {},
   "outputs": [
    {
     "data": {
      "text/plain": [
       "(tensor([[10.],\n",
       "         [20.],\n",
       "         [30.]]),\n",
       " tensor([[10.],\n",
       "         [20.],\n",
       "         [30.]]))"
      ]
     },
     "execution_count": 183,
     "metadata": {},
     "output_type": "execute_result"
    }
   ],
   "source": [
    "c.unsqueeze(1), c[:, None]"
   ]
  },
  {
   "cell_type": "code",
   "execution_count": 184,
   "id": "7c27a8eb-3593-4605-b2d2-2b87636b487b",
   "metadata": {},
   "outputs": [
    {
     "data": {
      "text/plain": [
       "(torch.Size([1, 3]), torch.Size([3, 1]))"
      ]
     },
     "execution_count": 184,
     "metadata": {},
     "output_type": "execute_result"
    }
   ],
   "source": [
    "c[None].shape,c[...,None].shape"
   ]
  },
  {
   "cell_type": "code",
   "execution_count": 185,
   "id": "78909e24-018e-4fed-bd3a-9783f542e33d",
   "metadata": {},
   "outputs": [
    {
     "data": {
      "text/plain": [
       "tensor([[10., 10., 10.],\n",
       "        [20., 20., 20.],\n",
       "        [30., 30., 30.]])"
      ]
     },
     "execution_count": 185,
     "metadata": {},
     "output_type": "execute_result"
    }
   ],
   "source": [
    "c[:,None].expand_as(m)"
   ]
  },
  {
   "cell_type": "code",
   "execution_count": 186,
   "id": "53901135-e6a1-43d4-ba79-431a8945baf0",
   "metadata": {},
   "outputs": [
    {
     "data": {
      "text/plain": [
       "tensor([[11., 12., 13.],\n",
       "        [24., 25., 26.],\n",
       "        [37., 38., 39.]])"
      ]
     },
     "execution_count": 186,
     "metadata": {},
     "output_type": "execute_result"
    }
   ],
   "source": [
    "m + c[:, None]"
   ]
  },
  {
   "cell_type": "code",
   "execution_count": 187,
   "id": "09873f7f-88da-4aaf-a78e-a71eca416482",
   "metadata": {},
   "outputs": [
    {
     "data": {
      "text/plain": [
       "tensor([[11., 22., 33.],\n",
       "        [14., 25., 36.],\n",
       "        [17., 28., 39.]])"
      ]
     },
     "execution_count": 187,
     "metadata": {},
     "output_type": "execute_result"
    }
   ],
   "source": [
    "m + c[None,:]"
   ]
  },
  {
   "cell_type": "markdown",
   "id": "f5de7c14-204e-490a-b604-5a9cefcece29",
   "metadata": {},
   "source": [
    "#### Broadcasting Rules"
   ]
  },
  {
   "cell_type": "code",
   "execution_count": 188,
   "id": "2b264c0c-7072-4f6b-8eb6-0d0bca7a3310",
   "metadata": {},
   "outputs": [
    {
     "data": {
      "text/plain": [
       "tensor([[10., 20., 30.]])"
      ]
     },
     "execution_count": 188,
     "metadata": {},
     "output_type": "execute_result"
    }
   ],
   "source": [
    "c[None,:]"
   ]
  },
  {
   "cell_type": "code",
   "execution_count": 189,
   "id": "bed4a7c2-5643-4af8-8c56-e5ff0a576f49",
   "metadata": {},
   "outputs": [
    {
     "data": {
      "text/plain": [
       "torch.Size([1, 3])"
      ]
     },
     "execution_count": 189,
     "metadata": {},
     "output_type": "execute_result"
    }
   ],
   "source": [
    "c[None,:].shape"
   ]
  },
  {
   "cell_type": "code",
   "execution_count": 190,
   "id": "221d1cfb-ea2f-460a-9979-2b086671adb2",
   "metadata": {},
   "outputs": [
    {
     "data": {
      "text/plain": [
       "(tensor([[10.],\n",
       "         [20.],\n",
       "         [30.]]),\n",
       " torch.Size([3, 1]))"
      ]
     },
     "execution_count": 190,
     "metadata": {},
     "output_type": "execute_result"
    }
   ],
   "source": [
    "c[:,None], c[:,None].shape"
   ]
  },
  {
   "cell_type": "code",
   "execution_count": 191,
   "id": "b36c4324-9c2e-4381-abfc-bb8af2a046c9",
   "metadata": {},
   "outputs": [
    {
     "data": {
      "text/plain": [
       "tensor([[100., 200., 300.],\n",
       "        [200., 400., 600.],\n",
       "        [300., 600., 900.]])"
      ]
     },
     "execution_count": 191,
     "metadata": {},
     "output_type": "execute_result"
    }
   ],
   "source": [
    "c[None,:] * c[:,None]"
   ]
  },
  {
   "cell_type": "code",
   "execution_count": 192,
   "id": "946fdc4a-d774-4d83-b348-5ad0ac436d2d",
   "metadata": {},
   "outputs": [
    {
     "data": {
      "text/plain": [
       "tensor([[False,  True,  True],\n",
       "        [False, False,  True],\n",
       "        [False, False, False]])"
      ]
     },
     "execution_count": 192,
     "metadata": {},
     "output_type": "execute_result"
    }
   ],
   "source": [
    "c[None] > c[:,None]"
   ]
  },
  {
   "cell_type": "code",
   "execution_count": 193,
   "id": "ed62fe2a-e78c-47fe-8a10-4e03ea0070e0",
   "metadata": {},
   "outputs": [
    {
     "data": {
      "text/plain": [
       "tensor([[ 1.,  4.,  9.],\n",
       "        [16., 25., 36.],\n",
       "        [49., 64., 81.]])"
      ]
     },
     "execution_count": 193,
     "metadata": {},
     "output_type": "execute_result"
    }
   ],
   "source": [
    "m*m"
   ]
  },
  {
   "cell_type": "code",
   "execution_count": 194,
   "id": "7a1fe8e1-0eb0-4b95-8e85-56ba001ca315",
   "metadata": {},
   "outputs": [
    {
     "data": {
      "text/plain": [
       "torch.Size([3, 3])"
      ]
     },
     "execution_count": 194,
     "metadata": {},
     "output_type": "execute_result"
    }
   ],
   "source": [
    "m.shape"
   ]
  },
  {
   "cell_type": "markdown",
   "id": "d988a1fe-ffd9-45ae-b9e8-b3155b798544",
   "metadata": {},
   "source": [
    "### Matmnul with broadcasting "
   ]
  },
  {
   "cell_type": "code",
   "execution_count": 195,
   "id": "666cde42-9468-48ed-9033-3bc5513b95ee",
   "metadata": {},
   "outputs": [
    {
     "data": {
      "text/plain": [
       "(torch.Size([784]), torch.Size([784, 10]))"
      ]
     },
     "execution_count": 195,
     "metadata": {},
     "output_type": "execute_result"
    }
   ],
   "source": [
    "digit = m1[0]\n",
    "digit.shape, m2.shape"
   ]
  },
  {
   "cell_type": "code",
   "execution_count": 196,
   "id": "ad2c0b7b-53a3-4da6-b350-d96656c953ff",
   "metadata": {},
   "outputs": [
    {
     "data": {
      "text/plain": [
       "torch.Size([784, 1])"
      ]
     },
     "execution_count": 196,
     "metadata": {},
     "output_type": "execute_result"
    }
   ],
   "source": [
    "digit[:,None].shape"
   ]
  },
  {
   "cell_type": "code",
   "execution_count": 197,
   "id": "c92f34ee-6fcb-4955-8ca8-d85f6544325e",
   "metadata": {},
   "outputs": [
    {
     "data": {
      "text/plain": [
       "torch.Size([784, 10])"
      ]
     },
     "execution_count": 197,
     "metadata": {},
     "output_type": "execute_result"
    }
   ],
   "source": [
    "digit[:,None].expand_as(m2).shape"
   ]
  },
  {
   "cell_type": "code",
   "execution_count": 198,
   "id": "6ded6065-00d4-47a0-bd54-3c9c69d67d52",
   "metadata": {},
   "outputs": [],
   "source": [
    "def matmul(a,b):\n",
    "    (ar,ac),(br,bc) = a.shape, b.shape\n",
    "    c = torch.zeros(ar,bc)\n",
    "    for i in range(ar):\n",
    "        c[i] = (a[i,:,None] * b).sum(dim=0)\n",
    "    return c"
   ]
  },
  {
   "cell_type": "code",
   "execution_count": 199,
   "id": "c373800b-6222-4220-9c77-4143f765f960",
   "metadata": {},
   "outputs": [
    {
     "name": "stdout",
     "output_type": "stream",
     "text": [
      "85.4 µs ± 15.2 µs per loop (mean ± std. dev. of 7 runs, 50 loops each)\n"
     ]
    }
   ],
   "source": [
    "%timeit -n 50 matmul(m1, m2)"
   ]
  },
  {
   "cell_type": "code",
   "execution_count": 200,
   "id": "da358822-36d2-4fe3-b526-18f4432cb521",
   "metadata": {},
   "outputs": [
    {
     "name": "stdout",
     "output_type": "stream",
     "text": [
      "CPU times: user 812 ms, sys: 0 ns, total: 812 ms\n",
      "Wall time: 762 ms\n"
     ]
    },
    {
     "data": {
      "text/plain": [
       "tensor([[52.78, 50.38, 57.56,  ..., 58.73, 56.32, 51.45],\n",
       "        [60.74, 57.79, 64.76,  ..., 64.31, 66.09, 56.52],\n",
       "        [40.03, 39.89, 39.59,  ..., 35.88, 35.26, 37.44],\n",
       "        ...,\n",
       "        [46.15, 44.78, 48.35,  ..., 46.48, 50.23, 43.47],\n",
       "        [43.27, 43.49, 48.87,  ..., 40.92, 46.24, 45.48],\n",
       "        [51.26, 51.43, 53.72,  ..., 54.96, 56.33, 54.25]])"
      ]
     },
     "execution_count": 200,
     "metadata": {},
     "output_type": "execute_result"
    }
   ],
   "source": [
    "%time matmul(x_train, weights)"
   ]
  },
  {
   "cell_type": "markdown",
   "id": "19eeb2c4-8ee2-49c9-aa81-7c6d87dfe662",
   "metadata": {},
   "source": [
    "### Einstein summation\n",
    "\n",
    "Einstein summaation is a compact representation for combining products and sums. Some rules:\n",
    "* Repeating letters between input arrays means that values along those axes will be multipilied\n",
    "* Omitting a letter from the output means the values along that axis will be summed"
   ]
  },
  {
   "cell_type": "code",
   "execution_count": 201,
   "id": "45fe96c0-03b5-41b2-a392-657f83eb0936",
   "metadata": {},
   "outputs": [
    {
     "data": {
      "text/plain": [
       "(torch.Size([5, 784]), torch.Size([784, 10]))"
      ]
     },
     "execution_count": 201,
     "metadata": {},
     "output_type": "execute_result"
    }
   ],
   "source": [
    "m1.shape, m2.shape"
   ]
  },
  {
   "cell_type": "code",
   "execution_count": 202,
   "id": "7895a00e-d799-4992-b074-9715ed8380b5",
   "metadata": {},
   "outputs": [
    {
     "data": {
      "text/plain": [
       "torch.Size([5, 784, 10])"
      ]
     },
     "execution_count": 202,
     "metadata": {},
     "output_type": "execute_result"
    }
   ],
   "source": [
    "# c[i,j] += a[i,k] * b[k,j]\n",
    "# c[i,j] = (a[i,:] * b[:,j]).sum()\n",
    "mr = torch.einsum(\"ik,kj->ikj\", m1, m2)\n",
    "mr.shape"
   ]
  },
  {
   "cell_type": "code",
   "execution_count": 203,
   "id": "ba94657b-7f6a-4632-8b60-ddb94827bf67",
   "metadata": {},
   "outputs": [
    {
     "data": {
      "text/plain": [
       "tensor([[46.66, 43.03, 48.56, 46.93, 44.96, 43.06, 36.80, 46.34, 51.79, 43.62],\n",
       "        [43.30, 44.58, 48.16, 46.78, 39.75, 48.04, 40.78, 46.85, 50.88, 45.76],\n",
       "        [40.51, 40.67, 42.52, 40.52, 39.42, 40.57, 38.88, 41.39, 44.34, 39.64],\n",
       "        [41.08, 36.08, 43.22, 40.43, 37.27, 37.28, 39.56, 38.06, 39.68, 36.73],\n",
       "        [55.49, 50.54, 50.00, 57.03, 49.81, 52.85, 53.32, 52.95, 53.99, 49.00]])"
      ]
     },
     "execution_count": 203,
     "metadata": {},
     "output_type": "execute_result"
    }
   ],
   "source": [
    "mr.sum(1)"
   ]
  },
  {
   "cell_type": "code",
   "execution_count": 204,
   "id": "678e58a0-eeda-46e9-9c98-0c24773aa680",
   "metadata": {},
   "outputs": [
    {
     "data": {
      "text/plain": [
       "tensor([[46.66, 43.03, 48.56, 46.93, 44.96, 43.06, 36.80, 46.34, 51.79, 43.62],\n",
       "        [43.30, 44.58, 48.16, 46.78, 39.75, 48.04, 40.78, 46.85, 50.88, 45.76],\n",
       "        [40.51, 40.67, 42.52, 40.52, 39.42, 40.57, 38.88, 41.39, 44.34, 39.64],\n",
       "        [41.08, 36.08, 43.22, 40.43, 37.27, 37.28, 39.56, 38.06, 39.68, 36.73],\n",
       "        [55.49, 50.54, 50.00, 57.03, 49.81, 52.85, 53.32, 52.95, 53.99, 49.00]])"
      ]
     },
     "execution_count": 204,
     "metadata": {},
     "output_type": "execute_result"
    }
   ],
   "source": [
    "torch.einsum(\"ik,kj->ij\", m1, m2)"
   ]
  },
  {
   "cell_type": "code",
   "execution_count": 205,
   "id": "6241638c-eafc-4f33-ac9b-7970649dc699",
   "metadata": {},
   "outputs": [],
   "source": [
    "def matmul(a,b): return torch.einsum(\"ik,kj->ij\", a, b)"
   ]
  },
  {
   "cell_type": "code",
   "execution_count": 206,
   "id": "5097ef23-c9ac-4e39-add9-b612764e992a",
   "metadata": {},
   "outputs": [
    {
     "name": "stdout",
     "output_type": "stream",
     "text": [
      "41.2 µs ± 15.3 µs per loop (mean ± std. dev. of 7 runs, 50 loops each)\n"
     ]
    }
   ],
   "source": [
    "%timeit -n 50 matmul(m1, m2)"
   ]
  },
  {
   "cell_type": "markdown",
   "id": "0be2d58d-b7d1-43d1-964d-17527c3a22a7",
   "metadata": {},
   "source": [
    "### pytorch op"
   ]
  },
  {
   "cell_type": "code",
   "execution_count": 207,
   "id": "5e634714-1b6f-4b0b-aa11-960ed6f1356f",
   "metadata": {},
   "outputs": [],
   "source": [
    "def matmul(a,b): return a@b"
   ]
  },
  {
   "cell_type": "code",
   "execution_count": 208,
   "id": "f009e3e2-d585-4166-ad9a-6955028840d9",
   "metadata": {},
   "outputs": [
    {
     "name": "stdout",
     "output_type": "stream",
     "text": [
      "17 µs ± 5.55 µs per loop (mean ± std. dev. of 7 runs, 50 loops each)\n"
     ]
    }
   ],
   "source": [
    "%timeit -n 50 matmul(m1, m2)"
   ]
  },
  {
   "cell_type": "markdown",
   "id": "bc6d0fb8-3be2-4ae4-a529-39a236de298e",
   "metadata": {},
   "source": [
    "### CUDA\n",
    "* Techniques so far have only used the CPU\n",
    "* We should make use of the GPU\n",
    "* GPUs like to do lots of things in parallel\n",
    "* We need to tell the GPU all the things we want it to do in parallel\n",
    "\n",
    "First we are going to write something in Python that looks like it would be in parallel but it's not so it will be slow."
   ]
  },
  {
   "cell_type": "code",
   "execution_count": 209,
   "id": "b40a124d-5b82-4571-9d75-cbed75762570",
   "metadata": {},
   "outputs": [],
   "source": [
    "def matmul(grid, a,b,c):\n",
    "    i,j = grid\n",
    "    if i < c.shape[0] and j < c.shape[1]:\n",
    "        tmp = 0.\n",
    "        for k in range(a.shape[1]): tmp += a[i,k] * b[k,j]\n",
    "        c[i,j] = tmp"
   ]
  },
  {
   "cell_type": "code",
   "execution_count": 210,
   "id": "3a7ca60a-37bb-4b36-93aa-b1549c785f89",
   "metadata": {},
   "outputs": [
    {
     "data": {
      "text/plain": [
       "tensor([[46.66,  0.00,  0.00,  0.00,  0.00,  0.00,  0.00,  0.00,  0.00,  0.00],\n",
       "        [ 0.00,  0.00,  0.00,  0.00,  0.00,  0.00,  0.00,  0.00,  0.00,  0.00],\n",
       "        [ 0.00,  0.00,  0.00,  0.00,  0.00,  0.00,  0.00,  0.00,  0.00,  0.00],\n",
       "        [ 0.00,  0.00,  0.00,  0.00,  0.00,  0.00,  0.00,  0.00,  0.00,  0.00],\n",
       "        [ 0.00,  0.00,  0.00,  0.00,  0.00,  0.00,  0.00,  0.00,  0.00,  0.00]])"
      ]
     },
     "execution_count": 210,
     "metadata": {},
     "output_type": "execute_result"
    }
   ],
   "source": [
    "res = torch.zeros(ar, bc)\n",
    "matmul((0,0), m1, m2, res)\n",
    "res"
   ]
  },
  {
   "cell_type": "markdown",
   "id": "f373d8dd-14c9-4638-b1ca-3160b20203fa",
   "metadata": {},
   "source": [
    "* So we've calculated just one cell of our output matrix"
   ]
  },
  {
   "cell_type": "code",
   "execution_count": 211,
   "id": "00f6c9c9-7bef-4d4d-9aa4-0523cc4e9087",
   "metadata": {},
   "outputs": [],
   "source": [
    "def launch_kernel(kernel, grid_x, grid_y, *args, **kwargs):\n",
    "        for i in range(grid_x):\n",
    "            for j in range(grid_y): kernel((i,j), *args, **kwargs)"
   ]
  },
  {
   "cell_type": "code",
   "execution_count": 212,
   "id": "1264803f-f0fb-4651-95d8-7ae55a900c83",
   "metadata": {},
   "outputs": [
    {
     "data": {
      "text/plain": [
       "tensor([[46.66, 43.03, 48.56, 46.93, 44.96, 43.06, 36.80, 46.34, 51.79, 43.62],\n",
       "        [43.30, 44.58, 48.16, 46.78, 39.75, 48.04, 40.78, 46.85, 50.88, 45.76],\n",
       "        [40.51, 40.67, 42.52, 40.52, 39.42, 40.57, 38.88, 41.39, 44.34, 39.64],\n",
       "        [41.08, 36.08, 43.22, 40.43, 37.27, 37.28, 39.56, 38.06, 39.68, 36.73],\n",
       "        [55.49, 50.54, 50.00, 57.03, 49.81, 52.85, 53.32, 52.95, 53.99, 49.00]])"
      ]
     },
     "execution_count": 212,
     "metadata": {},
     "output_type": "execute_result"
    }
   ],
   "source": [
    "res = torch.zeros(ar,bc)\n",
    "launch_kernel(matmul, ar, bc, m1, m2, res)\n",
    "res"
   ]
  },
  {
   "cell_type": "code",
   "execution_count": 213,
   "id": "20a8df86-8acf-4e30-babc-3f2fcdb03325",
   "metadata": {},
   "outputs": [],
   "source": [
    "from numba import cuda"
   ]
  },
  {
   "cell_type": "code",
   "execution_count": 214,
   "id": "a688b1e0-1032-48de-9ebc-6788f41d04bb",
   "metadata": {},
   "outputs": [],
   "source": [
    "@cuda.jit\n",
    "def matmul(a,b,c):\n",
    "    i, j = cuda.grid(2)\n",
    "    if i < c.shape[0] and j < c.shape[1]:\n",
    "        tmp = 0.\n",
    "        for k in range(a.shape[1]): tmp += a[i, k] * b[k, j]\n",
    "        c[i,j] = tmp"
   ]
  },
  {
   "cell_type": "code",
   "execution_count": 215,
   "id": "836625f7-89fe-434c-8deb-58ca950a1646",
   "metadata": {},
   "outputs": [
    {
     "data": {
      "text/plain": [
       "torch.Size([50000, 10])"
      ]
     },
     "execution_count": 215,
     "metadata": {},
     "output_type": "execute_result"
    }
   ],
   "source": [
    "tr = x_train@weights\n",
    "tr.shape"
   ]
  },
  {
   "cell_type": "code",
   "execution_count": 216,
   "id": "568ae423-85d5-4acc-a737-90d50e1e5c8d",
   "metadata": {},
   "outputs": [],
   "source": [
    "r = np.zeros(tr.shape)\n",
    "m1g,m2g,rg = map(cuda.to_device, (x_train,weights,r))"
   ]
  },
  {
   "cell_type": "code",
   "execution_count": 217,
   "id": "36465591-1190-4c3d-9d24-749603c3e1cb",
   "metadata": {},
   "outputs": [
    {
     "data": {
      "text/plain": [
       "(50000, 10)"
      ]
     },
     "execution_count": 217,
     "metadata": {},
     "output_type": "execute_result"
    }
   ],
   "source": [
    "r.shape"
   ]
  },
  {
   "cell_type": "code",
   "execution_count": 218,
   "id": "ea355006-db50-4a5a-b5ef-99207f9b9fe4",
   "metadata": {},
   "outputs": [
    {
     "data": {
      "text/plain": [
       "(3125, 1)"
      ]
     },
     "execution_count": 218,
     "metadata": {},
     "output_type": "execute_result"
    }
   ],
   "source": [
    "# Don't need to know the details of this right now\n",
    "# Just copy it when you need it\n",
    "TPB = 16\n",
    "rr,rc = r.shape\n",
    "blockspergrid = (math.ceil(rr / TPB), math.ceil(rc / TPB))\n",
    "blockspergrid"
   ]
  },
  {
   "cell_type": "code",
   "execution_count": 219,
   "id": "3dc97909-13e5-4396-a638-0a94a7592c55",
   "metadata": {},
   "outputs": [],
   "source": [
    "matmul[blockspergrid, (TPB,TPB)](m1g,m2g,rg)\n",
    "r = rg.copy_to_host()\n",
    "test_close(tr, r, eps=1e-3)"
   ]
  },
  {
   "cell_type": "code",
   "execution_count": 220,
   "id": "bbdbd586-7d9b-4087-a376-f72e754120b2",
   "metadata": {},
   "outputs": [
    {
     "data": {
      "text/plain": [
       "array([[52.78, 50.38, 57.56, ..., 58.73, 56.32, 51.45],\n",
       "       [60.74, 57.79, 64.76, ..., 64.31, 66.09, 56.52],\n",
       "       [40.03, 39.89, 39.59, ..., 35.88, 35.26, 37.44],\n",
       "       ...,\n",
       "       [46.15, 44.78, 48.35, ..., 46.48, 50.23, 43.47],\n",
       "       [43.27, 43.49, 48.87, ..., 40.92, 46.24, 45.48],\n",
       "       [51.26, 51.43, 53.72, ..., 54.96, 56.33, 54.25]])"
      ]
     },
     "execution_count": 220,
     "metadata": {},
     "output_type": "execute_result"
    }
   ],
   "source": [
    "r"
   ]
  },
  {
   "cell_type": "code",
   "execution_count": 221,
   "id": "58ecce53-54f0-4bb1-9212-a4e2f4c51f9c",
   "metadata": {},
   "outputs": [
    {
     "name": "stdout",
     "output_type": "stream",
     "text": [
      "5.67 ms ± 172 µs per loop (mean ± std. dev. of 7 runs, 10 loops each)\n"
     ]
    }
   ],
   "source": [
    "%%timeit -n 10\n",
    "matmul[blockspergrid, (TPB,TPB)](m1g,m2g,rg)\n",
    "r = rg.copy_to_host()"
   ]
  },
  {
   "cell_type": "code",
   "execution_count": 222,
   "id": "1723cf3b-87c5-430f-871d-5baf1f4ea76d",
   "metadata": {},
   "outputs": [],
   "source": [
    "m1c,m2c = x_train.cuda(),weights.cuda()"
   ]
  },
  {
   "cell_type": "code",
   "execution_count": 223,
   "id": "11e5e8b2-a229-4f7a-910e-60ff3c8cb2b0",
   "metadata": {},
   "outputs": [],
   "source": [
    "r=(m1c@m2c).cpu()"
   ]
  },
  {
   "cell_type": "code",
   "execution_count": 228,
   "id": "8a75248c-f8bd-45dd-ba7b-e78d0ae12fa8",
   "metadata": {},
   "outputs": [
    {
     "name": "stdout",
     "output_type": "stream",
     "text": [
      "The slowest run took 33.09 times longer than the fastest. This could mean that an intermediate result is being cached.\n",
      "3.23 ms ± 6.38 ms per loop (mean ± std. dev. of 7 runs, 10 loops each)\n"
     ]
    }
   ],
   "source": [
    "%timeit -n 10 r=(m1c@m2c).cpu()"
   ]
  },
  {
   "cell_type": "markdown",
   "id": "4f0cf037-fbf1-467e-9f65-8d06a807e37e",
   "metadata": {},
   "source": [
    "I can verify in my performance monitor that my GPU is getting spun up when I call this code but it's running really slow\n",
    "\n",
    "* ssh tunneling to run from mac"
   ]
  },
  {
   "cell_type": "code",
   "execution_count": null,
   "id": "b9a68baf-3be9-4454-a211-27baca63e0de",
   "metadata": {},
   "outputs": [],
   "source": []
  }
 ],
 "metadata": {
  "kernelspec": {
   "display_name": "Python 3 (ipykernel)",
   "language": "python",
   "name": "python3"
  },
  "language_info": {
   "codemirror_mode": {
    "name": "ipython",
    "version": 3
   },
   "file_extension": ".py",
   "mimetype": "text/x-python",
   "name": "python",
   "nbconvert_exporter": "python",
   "pygments_lexer": "ipython3",
   "version": "3.11.0rc1"
  }
 },
 "nbformat": 4,
 "nbformat_minor": 5
}
