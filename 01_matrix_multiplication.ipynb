{
 "cells": [
  {
   "cell_type": "markdown",
   "id": "0be10e94-e5c2-403a-a53d-03e16fcb4c71",
   "metadata": {},
   "source": [
    "# Matrix Multiplication from Foundations\n",
    "The foundations are:\n",
    "- Python\n",
    "- matplotlib\n",
    "- Python standard library\n",
    "- Jupyter notebooks and nbdev"
   ]
  },
  {
   "cell_type": "code",
   "execution_count": 2,
   "id": "911c3f6e-0874-407d-b607-58a93ffcdf46",
   "metadata": {},
   "outputs": [],
   "source": [
    "from pathlib import Path\n",
    "import pickle, gzip, math, os, time, shutil, matplotlib as mpl, matplotlib.pyplot as plt"
   ]
  },
  {
   "cell_type": "markdown",
   "id": "13c21474-46f1-4f28-bcc9-2d09a84a5bcf",
   "metadata": {},
   "source": [
    "## Get Data"
   ]
  },
  {
   "cell_type": "code",
   "execution_count": 3,
   "id": "24eda405-708d-4e54-9c9e-1e3d199cff22",
   "metadata": {},
   "outputs": [],
   "source": [
    "MNIST_URL='https://github.com/mnielsen/neural-networks-and-deep-learning/blob/master/data/mnist.pkl.gz?raw=true'\n",
    "path_data = Path(\"data\")\n",
    "path_data.mkdir(exist_ok=True)\n",
    "path_gz = path_data/\"mnist.pkl.gz\""
   ]
  },
  {
   "cell_type": "markdown",
   "id": "90dc7c3b-4b15-46d4-8bfe-a6a7c7a0a33c",
   "metadata": {},
   "source": [
    "Tips\n",
    "* Press shift + tab to see what options a method has\n",
    "* Or you can just hit tab inside of the method call\n",
    "* shift enter on a function without arguments to see where it comes from\n",
    "* put a questionmark after it to read the docs\n",
    "* put two questionmakrs after it to read the source code"
   ]
  },
  {
   "cell_type": "code",
   "execution_count": 4,
   "id": "c2d12d1c-a093-4923-b38c-2b9bbdace3d7",
   "metadata": {},
   "outputs": [],
   "source": [
    "from urllib.request import urlretrieve"
   ]
  },
  {
   "cell_type": "code",
   "execution_count": 5,
   "id": "d732484d-6f02-4d8d-bb2e-b928403c07a9",
   "metadata": {},
   "outputs": [
    {
     "data": {
      "text/plain": [
       "<function urllib.request.urlretrieve(url, filename=None, reporthook=None, data=None)>"
      ]
     },
     "execution_count": 5,
     "metadata": {},
     "output_type": "execute_result"
    }
   ],
   "source": [
    "urlretrieve"
   ]
  },
  {
   "cell_type": "code",
   "execution_count": 7,
   "id": "0ee436fa-5bc1-4e82-a450-c94ab6c65d26",
   "metadata": {},
   "outputs": [
    {
     "data": {
      "text/plain": [
       "\u001b[0;31mSignature:\u001b[0m \u001b[0murlretrieve\u001b[0m\u001b[0;34m(\u001b[0m\u001b[0murl\u001b[0m\u001b[0;34m,\u001b[0m \u001b[0mfilename\u001b[0m\u001b[0;34m=\u001b[0m\u001b[0;32mNone\u001b[0m\u001b[0;34m,\u001b[0m \u001b[0mreporthook\u001b[0m\u001b[0;34m=\u001b[0m\u001b[0;32mNone\u001b[0m\u001b[0;34m,\u001b[0m \u001b[0mdata\u001b[0m\u001b[0;34m=\u001b[0m\u001b[0;32mNone\u001b[0m\u001b[0;34m)\u001b[0m\u001b[0;34m\u001b[0m\u001b[0;34m\u001b[0m\u001b[0m\n",
       "\u001b[0;31mDocstring:\u001b[0m\n",
       "Retrieve a URL into a temporary location on disk.\n",
       "\n",
       "Requires a URL argument. If a filename is passed, it is used as\n",
       "the temporary file location. The reporthook argument should be\n",
       "a callable that accepts a block number, a read size, and the\n",
       "total file size of the URL target. The data argument should be\n",
       "valid URL encoded data.\n",
       "\n",
       "If a filename is passed and the URL points to a local resource,\n",
       "the result is a copy from local file to new file.\n",
       "\n",
       "Returns a tuple containing the path to the newly created\n",
       "data file as well as the resulting HTTPMessage object.\n",
       "\u001b[0;31mFile:\u001b[0m      /usr/lib/python3.11/urllib/request.py\n",
       "\u001b[0;31mType:\u001b[0m      function"
      ]
     },
     "metadata": {},
     "output_type": "display_data"
    }
   ],
   "source": [
    "urlretrieve?"
   ]
  },
  {
   "cell_type": "code",
   "execution_count": 8,
   "id": "4eec57f9-4c26-4226-a89a-0a9f0bb5d83d",
   "metadata": {},
   "outputs": [
    {
     "data": {
      "text/plain": [
       "\u001b[0;31mSignature:\u001b[0m \u001b[0murlretrieve\u001b[0m\u001b[0;34m(\u001b[0m\u001b[0murl\u001b[0m\u001b[0;34m,\u001b[0m \u001b[0mfilename\u001b[0m\u001b[0;34m=\u001b[0m\u001b[0;32mNone\u001b[0m\u001b[0;34m,\u001b[0m \u001b[0mreporthook\u001b[0m\u001b[0;34m=\u001b[0m\u001b[0;32mNone\u001b[0m\u001b[0;34m,\u001b[0m \u001b[0mdata\u001b[0m\u001b[0;34m=\u001b[0m\u001b[0;32mNone\u001b[0m\u001b[0;34m)\u001b[0m\u001b[0;34m\u001b[0m\u001b[0;34m\u001b[0m\u001b[0m\n",
       "\u001b[0;31mSource:\u001b[0m   \n",
       "\u001b[0;32mdef\u001b[0m \u001b[0murlretrieve\u001b[0m\u001b[0;34m(\u001b[0m\u001b[0murl\u001b[0m\u001b[0;34m,\u001b[0m \u001b[0mfilename\u001b[0m\u001b[0;34m=\u001b[0m\u001b[0;32mNone\u001b[0m\u001b[0;34m,\u001b[0m \u001b[0mreporthook\u001b[0m\u001b[0;34m=\u001b[0m\u001b[0;32mNone\u001b[0m\u001b[0;34m,\u001b[0m \u001b[0mdata\u001b[0m\u001b[0;34m=\u001b[0m\u001b[0;32mNone\u001b[0m\u001b[0;34m)\u001b[0m\u001b[0;34m:\u001b[0m\u001b[0;34m\u001b[0m\n",
       "\u001b[0;34m\u001b[0m    \u001b[0;34m\"\"\"\u001b[0m\n",
       "\u001b[0;34m    Retrieve a URL into a temporary location on disk.\u001b[0m\n",
       "\u001b[0;34m\u001b[0m\n",
       "\u001b[0;34m    Requires a URL argument. If a filename is passed, it is used as\u001b[0m\n",
       "\u001b[0;34m    the temporary file location. The reporthook argument should be\u001b[0m\n",
       "\u001b[0;34m    a callable that accepts a block number, a read size, and the\u001b[0m\n",
       "\u001b[0;34m    total file size of the URL target. The data argument should be\u001b[0m\n",
       "\u001b[0;34m    valid URL encoded data.\u001b[0m\n",
       "\u001b[0;34m\u001b[0m\n",
       "\u001b[0;34m    If a filename is passed and the URL points to a local resource,\u001b[0m\n",
       "\u001b[0;34m    the result is a copy from local file to new file.\u001b[0m\n",
       "\u001b[0;34m\u001b[0m\n",
       "\u001b[0;34m    Returns a tuple containing the path to the newly created\u001b[0m\n",
       "\u001b[0;34m    data file as well as the resulting HTTPMessage object.\u001b[0m\n",
       "\u001b[0;34m    \"\"\"\u001b[0m\u001b[0;34m\u001b[0m\n",
       "\u001b[0;34m\u001b[0m    \u001b[0murl_type\u001b[0m\u001b[0;34m,\u001b[0m \u001b[0mpath\u001b[0m \u001b[0;34m=\u001b[0m \u001b[0m_splittype\u001b[0m\u001b[0;34m(\u001b[0m\u001b[0murl\u001b[0m\u001b[0;34m)\u001b[0m\u001b[0;34m\u001b[0m\n",
       "\u001b[0;34m\u001b[0m\u001b[0;34m\u001b[0m\n",
       "\u001b[0;34m\u001b[0m    \u001b[0;32mwith\u001b[0m \u001b[0mcontextlib\u001b[0m\u001b[0;34m.\u001b[0m\u001b[0mclosing\u001b[0m\u001b[0;34m(\u001b[0m\u001b[0murlopen\u001b[0m\u001b[0;34m(\u001b[0m\u001b[0murl\u001b[0m\u001b[0;34m,\u001b[0m \u001b[0mdata\u001b[0m\u001b[0;34m)\u001b[0m\u001b[0;34m)\u001b[0m \u001b[0;32mas\u001b[0m \u001b[0mfp\u001b[0m\u001b[0;34m:\u001b[0m\u001b[0;34m\u001b[0m\n",
       "\u001b[0;34m\u001b[0m        \u001b[0mheaders\u001b[0m \u001b[0;34m=\u001b[0m \u001b[0mfp\u001b[0m\u001b[0;34m.\u001b[0m\u001b[0minfo\u001b[0m\u001b[0;34m(\u001b[0m\u001b[0;34m)\u001b[0m\u001b[0;34m\u001b[0m\n",
       "\u001b[0;34m\u001b[0m\u001b[0;34m\u001b[0m\n",
       "\u001b[0;34m\u001b[0m        \u001b[0;31m# Just return the local path and the \"headers\" for file://\u001b[0m\u001b[0;34m\u001b[0m\n",
       "\u001b[0;34m\u001b[0m        \u001b[0;31m# URLs. No sense in performing a copy unless requested.\u001b[0m\u001b[0;34m\u001b[0m\n",
       "\u001b[0;34m\u001b[0m        \u001b[0;32mif\u001b[0m \u001b[0murl_type\u001b[0m \u001b[0;34m==\u001b[0m \u001b[0;34m\"file\"\u001b[0m \u001b[0;32mand\u001b[0m \u001b[0;32mnot\u001b[0m \u001b[0mfilename\u001b[0m\u001b[0;34m:\u001b[0m\u001b[0;34m\u001b[0m\n",
       "\u001b[0;34m\u001b[0m            \u001b[0;32mreturn\u001b[0m \u001b[0mos\u001b[0m\u001b[0;34m.\u001b[0m\u001b[0mpath\u001b[0m\u001b[0;34m.\u001b[0m\u001b[0mnormpath\u001b[0m\u001b[0;34m(\u001b[0m\u001b[0mpath\u001b[0m\u001b[0;34m)\u001b[0m\u001b[0;34m,\u001b[0m \u001b[0mheaders\u001b[0m\u001b[0;34m\u001b[0m\n",
       "\u001b[0;34m\u001b[0m\u001b[0;34m\u001b[0m\n",
       "\u001b[0;34m\u001b[0m        \u001b[0;31m# Handle temporary file setup.\u001b[0m\u001b[0;34m\u001b[0m\n",
       "\u001b[0;34m\u001b[0m        \u001b[0;32mif\u001b[0m \u001b[0mfilename\u001b[0m\u001b[0;34m:\u001b[0m\u001b[0;34m\u001b[0m\n",
       "\u001b[0;34m\u001b[0m            \u001b[0mtfp\u001b[0m \u001b[0;34m=\u001b[0m \u001b[0mopen\u001b[0m\u001b[0;34m(\u001b[0m\u001b[0mfilename\u001b[0m\u001b[0;34m,\u001b[0m \u001b[0;34m'wb'\u001b[0m\u001b[0;34m)\u001b[0m\u001b[0;34m\u001b[0m\n",
       "\u001b[0;34m\u001b[0m        \u001b[0;32melse\u001b[0m\u001b[0;34m:\u001b[0m\u001b[0;34m\u001b[0m\n",
       "\u001b[0;34m\u001b[0m            \u001b[0mtfp\u001b[0m \u001b[0;34m=\u001b[0m \u001b[0mtempfile\u001b[0m\u001b[0;34m.\u001b[0m\u001b[0mNamedTemporaryFile\u001b[0m\u001b[0;34m(\u001b[0m\u001b[0mdelete\u001b[0m\u001b[0;34m=\u001b[0m\u001b[0;32mFalse\u001b[0m\u001b[0;34m)\u001b[0m\u001b[0;34m\u001b[0m\n",
       "\u001b[0;34m\u001b[0m            \u001b[0mfilename\u001b[0m \u001b[0;34m=\u001b[0m \u001b[0mtfp\u001b[0m\u001b[0;34m.\u001b[0m\u001b[0mname\u001b[0m\u001b[0;34m\u001b[0m\n",
       "\u001b[0;34m\u001b[0m            \u001b[0m_url_tempfiles\u001b[0m\u001b[0;34m.\u001b[0m\u001b[0mappend\u001b[0m\u001b[0;34m(\u001b[0m\u001b[0mfilename\u001b[0m\u001b[0;34m)\u001b[0m\u001b[0;34m\u001b[0m\n",
       "\u001b[0;34m\u001b[0m\u001b[0;34m\u001b[0m\n",
       "\u001b[0;34m\u001b[0m        \u001b[0;32mwith\u001b[0m \u001b[0mtfp\u001b[0m\u001b[0;34m:\u001b[0m\u001b[0;34m\u001b[0m\n",
       "\u001b[0;34m\u001b[0m            \u001b[0mresult\u001b[0m \u001b[0;34m=\u001b[0m \u001b[0mfilename\u001b[0m\u001b[0;34m,\u001b[0m \u001b[0mheaders\u001b[0m\u001b[0;34m\u001b[0m\n",
       "\u001b[0;34m\u001b[0m            \u001b[0mbs\u001b[0m \u001b[0;34m=\u001b[0m \u001b[0;36m1024\u001b[0m\u001b[0;34m*\u001b[0m\u001b[0;36m8\u001b[0m\u001b[0;34m\u001b[0m\n",
       "\u001b[0;34m\u001b[0m            \u001b[0msize\u001b[0m \u001b[0;34m=\u001b[0m \u001b[0;34m-\u001b[0m\u001b[0;36m1\u001b[0m\u001b[0;34m\u001b[0m\n",
       "\u001b[0;34m\u001b[0m            \u001b[0mread\u001b[0m \u001b[0;34m=\u001b[0m \u001b[0;36m0\u001b[0m\u001b[0;34m\u001b[0m\n",
       "\u001b[0;34m\u001b[0m            \u001b[0mblocknum\u001b[0m \u001b[0;34m=\u001b[0m \u001b[0;36m0\u001b[0m\u001b[0;34m\u001b[0m\n",
       "\u001b[0;34m\u001b[0m            \u001b[0;32mif\u001b[0m \u001b[0;34m\"content-length\"\u001b[0m \u001b[0;32min\u001b[0m \u001b[0mheaders\u001b[0m\u001b[0;34m:\u001b[0m\u001b[0;34m\u001b[0m\n",
       "\u001b[0;34m\u001b[0m                \u001b[0msize\u001b[0m \u001b[0;34m=\u001b[0m \u001b[0mint\u001b[0m\u001b[0;34m(\u001b[0m\u001b[0mheaders\u001b[0m\u001b[0;34m[\u001b[0m\u001b[0;34m\"Content-Length\"\u001b[0m\u001b[0;34m]\u001b[0m\u001b[0;34m)\u001b[0m\u001b[0;34m\u001b[0m\n",
       "\u001b[0;34m\u001b[0m\u001b[0;34m\u001b[0m\n",
       "\u001b[0;34m\u001b[0m            \u001b[0;32mif\u001b[0m \u001b[0mreporthook\u001b[0m\u001b[0;34m:\u001b[0m\u001b[0;34m\u001b[0m\n",
       "\u001b[0;34m\u001b[0m                \u001b[0mreporthook\u001b[0m\u001b[0;34m(\u001b[0m\u001b[0mblocknum\u001b[0m\u001b[0;34m,\u001b[0m \u001b[0mbs\u001b[0m\u001b[0;34m,\u001b[0m \u001b[0msize\u001b[0m\u001b[0;34m)\u001b[0m\u001b[0;34m\u001b[0m\n",
       "\u001b[0;34m\u001b[0m\u001b[0;34m\u001b[0m\n",
       "\u001b[0;34m\u001b[0m            \u001b[0;32mwhile\u001b[0m \u001b[0;32mTrue\u001b[0m\u001b[0;34m:\u001b[0m\u001b[0;34m\u001b[0m\n",
       "\u001b[0;34m\u001b[0m                \u001b[0mblock\u001b[0m \u001b[0;34m=\u001b[0m \u001b[0mfp\u001b[0m\u001b[0;34m.\u001b[0m\u001b[0mread\u001b[0m\u001b[0;34m(\u001b[0m\u001b[0mbs\u001b[0m\u001b[0;34m)\u001b[0m\u001b[0;34m\u001b[0m\n",
       "\u001b[0;34m\u001b[0m                \u001b[0;32mif\u001b[0m \u001b[0;32mnot\u001b[0m \u001b[0mblock\u001b[0m\u001b[0;34m:\u001b[0m\u001b[0;34m\u001b[0m\n",
       "\u001b[0;34m\u001b[0m                    \u001b[0;32mbreak\u001b[0m\u001b[0;34m\u001b[0m\n",
       "\u001b[0;34m\u001b[0m                \u001b[0mread\u001b[0m \u001b[0;34m+=\u001b[0m \u001b[0mlen\u001b[0m\u001b[0;34m(\u001b[0m\u001b[0mblock\u001b[0m\u001b[0;34m)\u001b[0m\u001b[0;34m\u001b[0m\n",
       "\u001b[0;34m\u001b[0m                \u001b[0mtfp\u001b[0m\u001b[0;34m.\u001b[0m\u001b[0mwrite\u001b[0m\u001b[0;34m(\u001b[0m\u001b[0mblock\u001b[0m\u001b[0;34m)\u001b[0m\u001b[0;34m\u001b[0m\n",
       "\u001b[0;34m\u001b[0m                \u001b[0mblocknum\u001b[0m \u001b[0;34m+=\u001b[0m \u001b[0;36m1\u001b[0m\u001b[0;34m\u001b[0m\n",
       "\u001b[0;34m\u001b[0m                \u001b[0;32mif\u001b[0m \u001b[0mreporthook\u001b[0m\u001b[0;34m:\u001b[0m\u001b[0;34m\u001b[0m\n",
       "\u001b[0;34m\u001b[0m                    \u001b[0mreporthook\u001b[0m\u001b[0;34m(\u001b[0m\u001b[0mblocknum\u001b[0m\u001b[0;34m,\u001b[0m \u001b[0mbs\u001b[0m\u001b[0;34m,\u001b[0m \u001b[0msize\u001b[0m\u001b[0;34m)\u001b[0m\u001b[0;34m\u001b[0m\n",
       "\u001b[0;34m\u001b[0m\u001b[0;34m\u001b[0m\n",
       "\u001b[0;34m\u001b[0m    \u001b[0;32mif\u001b[0m \u001b[0msize\u001b[0m \u001b[0;34m>=\u001b[0m \u001b[0;36m0\u001b[0m \u001b[0;32mand\u001b[0m \u001b[0mread\u001b[0m \u001b[0;34m<\u001b[0m \u001b[0msize\u001b[0m\u001b[0;34m:\u001b[0m\u001b[0;34m\u001b[0m\n",
       "\u001b[0;34m\u001b[0m        \u001b[0;32mraise\u001b[0m \u001b[0mContentTooShortError\u001b[0m\u001b[0;34m(\u001b[0m\u001b[0;34m\u001b[0m\n",
       "\u001b[0;34m\u001b[0m            \u001b[0;34m\"retrieval incomplete: got only %i out of %i bytes\"\u001b[0m\u001b[0;34m\u001b[0m\n",
       "\u001b[0;34m\u001b[0m            \u001b[0;34m%\u001b[0m \u001b[0;34m(\u001b[0m\u001b[0mread\u001b[0m\u001b[0;34m,\u001b[0m \u001b[0msize\u001b[0m\u001b[0;34m)\u001b[0m\u001b[0;34m,\u001b[0m \u001b[0mresult\u001b[0m\u001b[0;34m)\u001b[0m\u001b[0;34m\u001b[0m\n",
       "\u001b[0;34m\u001b[0m\u001b[0;34m\u001b[0m\n",
       "\u001b[0;34m\u001b[0m    \u001b[0;32mreturn\u001b[0m \u001b[0mresult\u001b[0m\u001b[0;34m\u001b[0m\u001b[0;34m\u001b[0m\u001b[0m\n",
       "\u001b[0;31mFile:\u001b[0m      /usr/lib/python3.11/urllib/request.py\n",
       "\u001b[0;31mType:\u001b[0m      function"
      ]
     },
     "metadata": {},
     "output_type": "display_data"
    }
   ],
   "source": [
    "urlretrieve??"
   ]
  },
  {
   "cell_type": "code",
   "execution_count": 9,
   "id": "009ec867-c933-49fc-9c6b-b866125452fb",
   "metadata": {},
   "outputs": [],
   "source": [
    "if not path_gz.exists(): urlretrieve(MNIST_URL, path_gz)"
   ]
  },
  {
   "cell_type": "code",
   "execution_count": 10,
   "id": "2899bbb8-c1b4-4e65-ae7d-846a8ccb7c33",
   "metadata": {},
   "outputs": [
    {
     "name": "stdout",
     "output_type": "stream",
     "text": [
      "mnist.pkl.gz\n"
     ]
    }
   ],
   "source": [
    "!ls -1 data"
   ]
  },
  {
   "cell_type": "code",
   "execution_count": 11,
   "id": "e446b50e-02a3-453a-9d37-d16d16bead3e",
   "metadata": {},
   "outputs": [],
   "source": [
    "with gzip.open(path_gz, \"rb\") as f: ((x_train, y_train), (x_valid, y_valid), _) = pickle.load(f, encoding=\"latin-1\")"
   ]
  },
  {
   "cell_type": "markdown",
   "id": "d833a943-92ff-4ea3-8ce6-5918c27701ae",
   "metadata": {},
   "source": [
    "I don't understand how you would know to destructure it like this though"
   ]
  },
  {
   "cell_type": "markdown",
   "id": "2420c11b-4b52-4c93-baea-d50fbfe34a30",
   "metadata": {},
   "source": [
    "- \"rb\" specifies that we want to read as binary\n",
    "- The tuples on the left of the expression are destructuring the data"
   ]
  },
  {
   "cell_type": "markdown",
   "id": "4f6829e9-d3fc-48d8-8e81-f6f5319c6b6f",
   "metadata": {},
   "source": [
    "- We convert to a list since the data will be returned as numpy"
   ]
  },
  {
   "cell_type": "code",
   "execution_count": 12,
   "id": "900cd702-ee66-44b0-a9eb-36ae687ce2b6",
   "metadata": {},
   "outputs": [
    {
     "data": {
      "text/plain": [
       "[0.0,\n",
       " 0.0,\n",
       " 0.0,\n",
       " 0.19140625,\n",
       " 0.9296875,\n",
       " 0.98828125,\n",
       " 0.98828125,\n",
       " 0.98828125,\n",
       " 0.98828125,\n",
       " 0.98828125]"
      ]
     },
     "execution_count": 12,
     "metadata": {},
     "output_type": "execute_result"
    }
   ],
   "source": [
    "lst1 = list(x_train[0])\n",
    "vals = lst1[200:210]\n",
    "vals"
   ]
  },
  {
   "cell_type": "markdown",
   "id": "e91c9a59-8e03-4627-a80f-cfe044a07e98",
   "metadata": {},
   "source": [
    "- This is a function for breaking up a list into chunks\n",
    "- We step through the list at the given chunk size\n",
    "- Yield allows us to return from this list withou breaking the loop so we can return each chunk of the list in an iterable\n",
    "- Iterables are things you can call next() on"
   ]
  },
  {
   "cell_type": "code",
   "execution_count": 13,
   "id": "2569c3d4-2055-40bb-a5b8-7ec942fa4868",
   "metadata": {},
   "outputs": [],
   "source": [
    "def chunks(x, size):\n",
    "    for i in range(0, len(x), size): yield x[i:i+size]"
   ]
  },
  {
   "cell_type": "code",
   "execution_count": 14,
   "id": "e14f8275-382b-4765-9ba5-8683bb538cc1",
   "metadata": {},
   "outputs": [
    {
     "data": {
      "text/plain": [
       "[[0.0, 0.0, 0.0, 0.19140625, 0.9296875],\n",
       " [0.98828125, 0.98828125, 0.98828125, 0.98828125, 0.98828125]]"
      ]
     },
     "execution_count": 14,
     "metadata": {},
     "output_type": "execute_result"
    }
   ],
   "source": [
    "list(chunks(vals, 5))"
   ]
  },
  {
   "cell_type": "code",
   "execution_count": 15,
   "id": "e66bc6d6-70a1-4734-8925-2a762a702582",
   "metadata": {},
   "outputs": [
    {
     "data": {
      "image/png": "[encoded data removed]",
      "text/plain": [
       "<Figure size 640x480 with 1 Axes>"
      ]
     },
     "metadata": {},
     "output_type": "display_data"
    }
   ],
   "source": [
    "mpl.rcParams[\"image.cmap\"] = \"gray\"\n",
    "plt.imshow(list(chunks(lst1, 28)));"
   ]
  },
  {
   "cell_type": "markdown",
   "id": "0567a574-62bd-42ba-a5f3-7cd9967069ca",
   "metadata": {},
   "source": [
    "## Iterators\n",
    "- Iterators are really important and they can often replace more complilcated pieces of software\n",
    "- They can process chunks of data sequentially without storing it all in memory"
   ]
  },
  {
   "cell_type": "code",
   "execution_count": 16,
   "id": "c203d56f-f185-4431-b644-5ddc15b66553",
   "metadata": {},
   "outputs": [],
   "source": [
    "from itertools import islice"
   ]
  },
  {
   "cell_type": "code",
   "execution_count": 17,
   "id": "b10425dc-082a-4353-b341-ec2b32abf880",
   "metadata": {},
   "outputs": [
    {
     "data": {
      "text/plain": [
       "<itertools.islice at 0x7f5c30196b10>"
      ]
     },
     "execution_count": 17,
     "metadata": {},
     "output_type": "execute_result"
    }
   ],
   "source": [
    "it = iter(vals)\n",
    "islice(it, 5)"
   ]
  },
  {
   "cell_type": "markdown",
   "id": "231b5002-e658-441b-9d6b-7adb9c09853a",
   "metadata": {},
   "source": [
    "- Can turn any list into an interator\n",
    "- islice converts it into a different kind of iterator\n",
    "- islice grabs the first n things from an iterable\n",
    "- This is interesting becuase we can make our own version of yield"
   ]
  },
  {
   "cell_type": "code",
   "execution_count": 18,
   "id": "405ec23b-ba35-4847-bc68-20e8949d92b4",
   "metadata": {},
   "outputs": [],
   "source": [
    "it = iter(lst1)\n",
    "img = list(iter(lambda: list(islice(it, 28)), []))"
   ]
  },
  {
   "cell_type": "markdown",
   "id": "7a48d826-dc11-4407-9166-eaa3a3caae19",
   "metadata": {},
   "source": [
    "- iter can take a list or a callable\n",
    "- a callable is generally a function x()\n",
    "- the callable function will be called until the function returns the value we pass to it ( [] )\n",
    "- [] will be returned when the islice is done"
   ]
  },
  {
   "cell_type": "code",
   "execution_count": 19,
   "id": "905af627-403f-46ed-bb4b-975be735bcb4",
   "metadata": {},
   "outputs": [
    {
     "data": {
      "image/png": "[encoded data removed]",
      "text/plain": [
       "<Figure size 640x480 with 1 Axes>"
      ]
     },
     "metadata": {},
     "output_type": "display_data"
    }
   ],
   "source": [
    "plt.imshow(img);"
   ]
  },
  {
   "cell_type": "markdown",
   "id": "3cdfdd7c-1f02-4812-9974-2cbce79d196a",
   "metadata": {},
   "source": [
    "## Matrix and Tensor\n",
    "- To access the values in our img list, we would have to index into them but we don't really want to do this\n",
    "- Instead we will create our own matrix class so we can treat the list like a matrix"
   ]
  },
  {
   "cell_type": "code",
   "execution_count": 20,
   "id": "09b54722-9765-495e-bdd0-88697ff72e2a",
   "metadata": {},
   "outputs": [],
   "source": [
    "class Matrix:\n",
    "    def __init__(self, xs):\n",
    "        self.xs = xs\n",
    "    def __getitem__(self, idxs):\n",
    "        return self.xs[idxs[0]][idxs[1]]"
   ]
  },
  {
   "cell_type": "markdown",
   "id": "fb62f464-88f1-4802-9533-86e5a27dfc6b",
   "metadata": {},
   "source": [
    "- __ __ are dunder methods are the standard python object methods\n",
    "- We need to define the behavior in these cases\n",
    "- When we initialize the Matrix, we pass in our values which is stored as an object attribute\n",
    "- We alose need a way to get things from our matrix. When we call [] on our object, python calls our __getitem__ method"
   ]
  },
  {
   "cell_type": "code",
   "execution_count": 21,
   "id": "3f9bceae-a2d4-4864-ba32-4f72f0062010",
   "metadata": {},
   "outputs": [
    {
     "data": {
      "text/plain": [
       "0.98828125"
      ]
     },
     "execution_count": 21,
     "metadata": {},
     "output_type": "execute_result"
    }
   ],
   "source": [
    "m = Matrix(img)\n",
    "m[20,15]"
   ]
  },
  {
   "cell_type": "code",
   "execution_count": 22,
   "id": "509c7799-f348-498b-8edb-5897cd07e117",
   "metadata": {},
   "outputs": [],
   "source": [
    "import torch\n",
    "from torch import tensor"
   ]
  },
  {
   "cell_type": "code",
   "execution_count": 23,
   "id": "d8146e5c-93c8-46d9-bd8a-fd5a5a382f67",
   "metadata": {},
   "outputs": [
    {
     "data": {
      "text/plain": [
       "tensor(0.9883)"
      ]
     },
     "execution_count": 23,
     "metadata": {},
     "output_type": "execute_result"
    }
   ],
   "source": [
    "tens = tensor(img)\n",
    "tens[20,15]"
   ]
  },
  {
   "cell_type": "markdown",
   "id": "57cca42b-5a3e-404f-91d6-6ed3d9db0deb",
   "metadata": {},
   "source": [
    "- Thus with our matrix class we have successfully implemented the basics of a tensor and we can now use the tensor object"
   ]
  },
  {
   "cell_type": "code",
   "execution_count": 24,
   "id": "3b91e6e4-5ae0-4f85-9868-ce12373ecafe",
   "metadata": {},
   "outputs": [
    {
     "data": {
      "text/plain": [
       "torch.Size([50000, 784])"
      ]
     },
     "execution_count": 24,
     "metadata": {},
     "output_type": "execute_result"
    }
   ],
   "source": [
    "x_train,y_train,x_valid,y_valid = map(tensor, (x_train,y_train,x_valid,y_valid))\n",
    "x_train.shape"
   ]
  },
  {
   "cell_type": "markdown",
   "id": "0d7ba904-91a7-47c0-931f-720346fee1e1",
   "metadata": {},
   "source": [
    "- map returns an interator that applies the function we give it to every item of the iterable and yields the results\n",
    "- In this case our tuple is the iterable and map will apply tensor to each list and return it which we can then save"
   ]
  },
  {
   "cell_type": "code",
   "execution_count": 25,
   "id": "66e5b293-4584-4dcc-9a09-1f88ae9dfd11",
   "metadata": {},
   "outputs": [
    {
     "data": {
      "text/plain": [
       "torch.Size([50000, 28, 28])"
      ]
     },
     "execution_count": 25,
     "metadata": {},
     "output_type": "execute_result"
    }
   ],
   "source": [
    "imgs = x_train.reshape([-1, 28, 28])\n",
    "imgs.shape"
   ]
  },
  {
   "cell_type": "markdown",
   "id": "b54047e2-6088-417e-8a08-8995bb4a0357",
   "metadata": {},
   "source": [
    "- This is the equivalent tensor method to our chunks function from before\n",
    "- reshape([50000, 28, 28]) is equivalent but we don't need to specify it"
   ]
  },
  {
   "cell_type": "code",
   "execution_count": 26,
   "id": "ccbda73e-7558-4b02-b99d-f290a9f2cecd",
   "metadata": {},
   "outputs": [
    {
     "data": {
      "text/plain": [
       "<matplotlib.image.AxesImage at 0x7f5b76840490>"
      ]
     },
     "execution_count": 26,
     "metadata": {},
     "output_type": "execute_result"
    },
    {
     "data": {
      "image/png": "[encoded data removed]",
      "text/plain": [
       "<Figure size 640x480 with 1 Axes>"
      ]
     },
     "metadata": {},
     "output_type": "display_data"
    }
   ],
   "source": [
    "plt.imshow(imgs[0])"
   ]
  },
  {
   "cell_type": "markdown",
   "id": "07cd478e-12ac-4b41-95e2-e7256fe81935",
   "metadata": {},
   "source": [
    "#### What is a tensor?\n",
    "- Goes back to a language called APL\n",
    "- Mathematical notation for defining IBM systems\n",
    "- The creator of APL studied tensor analysis from physics\n",
    "- He implemented the functionality of physics tensors in code\n",
    "- This is good becasue we no longer have to write loops for everything, we can express them directly\n",
    "- APL calls these things arrays\n",
    "- Numpy calls them arrays\n",
    "- PyTorch calls them tensors\n",
    "- They are all the same thing\n",
    "- They are rectangular blocks of numbers with any number of dimensions\n",
    "\n",
    "##### Back to our code\n",
    "- Our tensor is a rank 3 tensor (3 dimensions)"
   ]
  },
  {
   "cell_type": "code",
   "execution_count": 27,
   "id": "d4065a4d-7432-4218-9fba-7e776870e14d",
   "metadata": {},
   "outputs": [
    {
     "data": {
      "text/plain": [
       "torch.Size([28, 28])"
      ]
     },
     "execution_count": 27,
     "metadata": {},
     "output_type": "execute_result"
    }
   ],
   "source": [
    "imgs[0].shape"
   ]
  },
  {
   "cell_type": "code",
   "execution_count": 28,
   "id": "3cc90bc9-f542-42a7-9497-2a8859929f58",
   "metadata": {},
   "outputs": [
    {
     "data": {
      "text/plain": [
       "tensor(0.9883)"
      ]
     },
     "execution_count": 28,
     "metadata": {},
     "output_type": "execute_result"
    }
   ],
   "source": [
    "imgs[0,20,15]"
   ]
  },
  {
   "cell_type": "code",
   "execution_count": 29,
   "id": "09fb9ae6-5cc3-44a1-acdb-924072237f93",
   "metadata": {},
   "outputs": [
    {
     "data": {
      "text/plain": [
       "torch.Size([50000, 784])"
      ]
     },
     "execution_count": 29,
     "metadata": {},
     "output_type": "execute_result"
    }
   ],
   "source": [
    "x_train.shape"
   ]
  },
  {
   "cell_type": "code",
   "execution_count": 30,
   "id": "13a5bdfd-40f9-4780-b1a3-abbdc4e7171a",
   "metadata": {},
   "outputs": [
    {
     "data": {
      "text/plain": [
       "(tensor([5, 0, 4,  ..., 8, 4, 8]), torch.Size([50000]))"
      ]
     },
     "execution_count": 30,
     "metadata": {},
     "output_type": "execute_result"
    }
   ],
   "source": [
    "n,c = x_train.shape\n",
    "y_train, y_train.shape"
   ]
  },
  {
   "cell_type": "code",
   "execution_count": 31,
   "id": "7d3a6968-b6c4-415b-bf1d-1403ce0c2cb1",
   "metadata": {},
   "outputs": [
    {
     "data": {
      "text/plain": [
       "(tensor(0), tensor(9))"
      ]
     },
     "execution_count": 31,
     "metadata": {},
     "output_type": "execute_result"
    }
   ],
   "source": [
    "min(y_train), max(y_train)"
   ]
  },
  {
   "cell_type": "markdown",
   "id": "3baf2386-bd5f-4ff4-9443-8eb5dec48a20",
   "metadata": {},
   "source": [
    "## Random Numbers\n",
    "- We don't actually need to build a random number generator since there is on included in the standard Python library but we will anyways because it is good to know\n",
    "- Computers cannot actually generate random numbers\n",
    "- There is a cool website where you can use and API to get random numbers generated by quantum fluctuations in a vacuum\n",
    "- CloudFlare uses a wall of lava lamps and a camera to generate random numbers\n",
    "- All these things can get you random numbers but they are kind of slow\n",
    "\n",
    "#### Sudo Random\n",
    "- Instead we use a sudo random number generator\n",
    "- Our sudo random number generator looks like it is returning randomly distributed numbers\n",
    "- For this we want our generator to return numbers that don't appear to be correlated and are evenly distributed over the range provided"
   ]
  },
  {
   "cell_type": "code",
   "execution_count": 32,
   "id": "f38c5d09-cfb0-4528-902b-aaeacd81e0a8",
   "metadata": {},
   "outputs": [],
   "source": [
    "rnd_state = None\n",
    "def seed(a):\n",
    "    global rnd_state\n",
    "    a, x = divmod(a, 30268)\n",
    "    a, y = divmod(a, 30306)\n",
    "    a, z = divmod(a, 30322)\n",
    "    rnd_state = int(x)+1, int(y)+1, int(z)+1"
   ]
  },
  {
   "cell_type": "code",
   "execution_count": 33,
   "id": "dec18c16-5eba-4375-8af3-917340d924c7",
   "metadata": {},
   "outputs": [
    {
     "data": {
      "text/plain": [
       "(24701, 14214, 1826)"
      ]
     },
     "execution_count": 33,
     "metadata": {},
     "output_type": "execute_result"
    }
   ],
   "source": [
    "seed(21029384710239840)\n",
    "rnd_state"
   ]
  },
  {
   "cell_type": "code",
   "execution_count": 35,
   "id": "ca71d993-1e63-4882-a0d7-6a8c132a79d5",
   "metadata": {},
   "outputs": [],
   "source": [
    "def rand():\n",
    "    global rnd_state\n",
    "    x, y, z = rnd_state\n",
    "    x = (171 * x) % 30296\n",
    "    y = (172 * y) % 30307\n",
    "    z = (170 * z) % 30323\n",
    "    rnd_state = x,y,z\n",
    "    return (x/30296 + y/30307 + z/30323) % 1.0"
   ]
  },
  {
   "cell_type": "code",
   "execution_count": 36,
   "id": "db91977d-7f55-4813-87e7-b4b15f4e162a",
   "metadata": {},
   "outputs": [
    {
     "data": {
      "text/plain": [
       "(0.3252986819280379, 0.05705734701170684, 0.3600646416501161)"
      ]
     },
     "execution_count": 36,
     "metadata": {},
     "output_type": "execute_result"
    }
   ],
   "source": [
    "rand(), rand(), rand()"
   ]
  },
  {
   "cell_type": "code",
   "execution_count": 37,
   "id": "36dd8715-731d-4c08-938c-df67de091bf7",
   "metadata": {},
   "outputs": [
    {
     "name": "stdout",
     "output_type": "stream",
     "text": [
      "In parent: 0.9501540726215909\n",
      "In child: 0.9501540726215909\n"
     ]
    }
   ],
   "source": [
    "if os.fork(): print(f\"In parent: {rand()}\")\n",
    "else:\n",
    "    print(f\"In child: {rand()}\")\n",
    "    os._exit(os.EX_OK)"
   ]
  },
  {
   "cell_type": "code",
   "execution_count": 38,
   "id": "734e5d3e-ddf0-44a1-8250-040920a524b1",
   "metadata": {},
   "outputs": [
    {
     "name": "stdout",
     "output_type": "stream",
     "text": [
      "In parent: tensor([0.2175])\n",
      "In child: tensor([0.2175])\n"
     ]
    }
   ],
   "source": [
    "if os.fork(): print(f\"In parent: {torch.rand(1)}\")\n",
    "else:\n",
    "    print(f\"In child: {torch.rand(1)}\")\n",
    "    os._exit(os.EX_OK)"
   ]
  },
  {
   "cell_type": "code",
   "execution_count": 39,
   "id": "8c435e13-c682-48a4-8a3d-cbc68e43e745",
   "metadata": {},
   "outputs": [],
   "source": [
    "from random import random"
   ]
  },
  {
   "cell_type": "code",
   "execution_count": 40,
   "id": "e22bb18f-9c69-4a2c-8887-078d5487d56a",
   "metadata": {},
   "outputs": [
    {
     "name": "stdout",
     "output_type": "stream",
     "text": [
      "In parent: 0.8364384618330856\n",
      "In child: 0.44589507385756755\n"
     ]
    }
   ],
   "source": [
    "if os.fork(): print(f\"In parent: {random()}\")\n",
    "else:\n",
    "    print(f\"In child: {random()}\")\n",
    "    os._exit(os.EX_OK)"
   ]
  },
  {
   "cell_type": "markdown",
   "id": "4d4ae381-69bf-4151-8a33-cddbfacaf339",
   "metadata": {},
   "source": [
    "- Need to remember that random number generators rely on the this global rnd_state\n",
    "- if we use os.fork() it will create a whole seperate copy of this python process\n",
    "- If we try and create random numbers in these processes, we will get the same number since the processes are copies of one another\n",
    "- This comes up in deep learning becasue we often do parallel processing\n",
    "- To get truly random numbers in parallel processing, you need to initialize the random generator in each process\n",
    "- PyTorch, and NumPy fail to do this but the Python standard library works"
   ]
  },
  {
   "cell_type": "code",
   "execution_count": 41,
   "id": "9b1a72b6-8471-4040-8e39-fe05ec651895",
   "metadata": {},
   "outputs": [
    {
     "name": "stdout",
     "output_type": "stream",
     "text": [
      "2.82 ms ± 137 µs per loop (mean ± std. dev. of 7 runs, 10 loops each)\n"
     ]
    }
   ],
   "source": [
    "%timeit -n 10 list(chunks([rand() for _ in range(7840)], 10))"
   ]
  },
  {
   "cell_type": "code",
   "execution_count": 42,
   "id": "2842057d-69e7-48c0-adfd-173319c287f2",
   "metadata": {},
   "outputs": [
    {
     "name": "stdout",
     "output_type": "stream",
     "text": [
      "51.1 µs ± 24.5 µs per loop (mean ± std. dev. of 7 runs, 10 loops each)\n"
     ]
    }
   ],
   "source": [
    "%timeit -n 10 torch.randn(784, 10)"
   ]
  },
  {
   "cell_type": "markdown",
   "id": "ed119dc9-da23-44db-a006-8f1a3d8a6da5",
   "metadata": {},
   "source": [
    "- These both do the same thing but the PyTorch version is orders of magnitude quicker so we will use the PyTorch version and not ours for training models"
   ]
  },
  {
   "cell_type": "code",
   "execution_count": null,
   "id": "3a04346e-d63b-405e-b7f8-cdcac60301e7",
   "metadata": {},
   "outputs": [],
   "source": []
  }
 ],
 "metadata": {
  "kernelspec": {
   "display_name": "Python 3 (ipykernel)",
   "language": "python",
   "name": "python3"
  },
  "language_info": {
   "codemirror_mode": {
    "name": "ipython",
    "version": 3
   },
   "file_extension": ".py",
   "mimetype": "text/x-python",
   "name": "python",
   "nbconvert_exporter": "python",
   "pygments_lexer": "ipython3",
   "version": "3.11.0rc1"
  }
 },
 "nbformat": 4,
 "nbformat_minor": 5
}
