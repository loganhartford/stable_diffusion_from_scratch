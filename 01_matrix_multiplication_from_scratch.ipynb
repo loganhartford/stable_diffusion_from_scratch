{
 "cells": [
  {
   "cell_type": "markdown",
   "id": "4c3acfad-8c01-4bf2-90f1-b76ad912310e",
   "metadata": {},
   "source": [
    "## Lesson 10\n",
    "### From Scratch\n",
    "* In the from scratch versions, I'll be recreating the content from the lessons using only the notes prepared below\n",
    "* I'll also be using the MNIST Fashion dataset to mix things up"
   ]
  },
  {
   "cell_type": "markdown",
   "id": "2d022300-52df-40f5-bfe6-dddc3da03863",
   "metadata": {},
   "source": [
    "| Step | Notes | Documentation |\n",
    "| --- | --- | --- |\n",
    "| 1. Download data | urlretrieve | [link](https://docs.python.org/3/library/urllib.request.html) |\n",
    "| 1.1 Extract data | gzip | [link](https://docs.python.org/3/library/gzip.html)\n",
    "| 2. Chunkify lists | | [link](https://docs.python.org/3/library/functions.html) |\n",
    "| 3. Display image | using matplotlib | [link](https://matplotlib.org/stable/api/_as_gen/matplotlib.pyplot.imshow.html) |\n",
    "| 4. Create Tensor Class | tensor[3,4] should work | [link](https://docs.python.org/3/reference/datamodel.html) |"
   ]
  },
  {
   "cell_type": "markdown",
   "id": "532eab21-8f15-41f4-897d-6c199589f7b3",
   "metadata": {},
   "source": [
    "### Other helpful things\n",
    "* path_data.mkdir(exist_ok=True)\n",
    "* !ls -1 data"
   ]
  },
  {
   "cell_type": "code",
   "execution_count": 1,
   "id": "50ab3222-00b9-460e-bd56-1ded25a95120",
   "metadata": {},
   "outputs": [],
   "source": [
    "from pathlib import Path\n",
    "import pickle, gzip, math, os, time, shutil, matplotlib as mpl, matplotlib.pyplot as plt"
   ]
  },
  {
   "cell_type": "markdown",
   "id": "f5d30ffc-73c8-437e-b607-09528d1a6dbe",
   "metadata": {},
   "source": [
    "#### 1. Download the data"
   ]
  },
  {
   "cell_type": "code",
   "execution_count": 354,
   "id": "a9195fd3-e4fe-48e6-8ce1-d9e989315977",
   "metadata": {},
   "outputs": [],
   "source": [
    "TEST_IMG_URL = \"https://github.com/zalandoresearch/fashion-mnist/raw/master/data/fashion/t10k-images-idx3-ubyte.gz?raw=true\"\n",
    "TEST_LABEL_URL = \"https://github.com/zalandoresearch/fashion-mnist/blob/master/data/fashion/t10k-labels-idx1-ubyte.gz?raw=true\"\n",
    "TRAIN_IMG_URL = \"https://github.com/zalandoresearch/fashion-mnist/blob/master/data/fashion/train-images-idx3-ubyte.gz?raw=true\"\n",
    "TRAIN_LABEL_URL = \"https://github.com/zalandoresearch/fashion-mnist/blob/master/data/fashion/train-labels-idx1-ubyte.gz?raw=true\""
   ]
  },
  {
   "cell_type": "code",
   "execution_count": 355,
   "id": "1b559679-0872-4ca9-82a7-ea864e05da99",
   "metadata": {},
   "outputs": [],
   "source": [
    "path_data = Path(\"fashion_data\")\n",
    "path_data.mkdir(exist_ok=True)\n",
    "path_train = path_data/\"train-images-idx3-ubyte.gz\""
   ]
  },
  {
   "cell_type": "code",
   "execution_count": 356,
   "id": "6b1f8dc9-eca6-441f-8ede-64f403bb194b",
   "metadata": {},
   "outputs": [],
   "source": [
    "from urllib.request import urlretrieve"
   ]
  },
  {
   "cell_type": "code",
   "execution_count": 357,
   "id": "627a58cd-4cdd-4bf2-b16e-610e25f96c30",
   "metadata": {},
   "outputs": [
    {
     "data": {
      "text/plain": [
       "(PosixPath('fashion_data/train-images-idx3-ubyte.gz'),\n",
       " <http.client.HTTPMessage at 0x7f24007b5050>)"
      ]
     },
     "execution_count": 357,
     "metadata": {},
     "output_type": "execute_result"
    }
   ],
   "source": [
    "urlretrieve(TRAIN_IMG_URL, filename=path_train)"
   ]
  },
  {
   "cell_type": "code",
   "execution_count": 358,
   "id": "0cfacf1b-c788-4c15-b4c3-d0d54cf1a31a",
   "metadata": {},
   "outputs": [
    {
     "name": "stdout",
     "output_type": "stream",
     "text": [
      "train-images-idx3-ubyte.gz\n"
     ]
    }
   ],
   "source": [
    "!ls -1 fashion_data"
   ]
  },
  {
   "cell_type": "markdown",
   "id": "85fa8b27-5dd7-4a6c-811e-8f77cc05e059",
   "metadata": {},
   "source": [
    "#### 1.1 Extract the data"
   ]
  },
  {
   "cell_type": "code",
   "execution_count": 359,
   "id": "7c0208e0-dece-4955-b9e0-f74bddfdc527",
   "metadata": {},
   "outputs": [],
   "source": [
    "#collapse-hide\n",
    "# taken from https://github.com/datapythonista/mnist/blob/master/mnist/__init__.py\n",
    "import os\n",
    "import functools\n",
    "import operator\n",
    "import struct\n",
    "import array\n",
    "import tempfile\n",
    "\n",
    "def parse_idx(fd):\n",
    "    \"\"\"Parse an IDX file, and return it as an array of arrays.\n",
    "    \n",
    "    Parameters\n",
    "    ----------\n",
    "    fd : file\n",
    "        File descriptor of the IDX file to parse\n",
    "    endian : str\n",
    "        Byte order of the IDX file. See [1] for available options\n",
    "    Returns\n",
    "    -------\n",
    "    data : array\n",
    "        Numpy array with the dimensions and the data in the IDX file\n",
    "    1. https://docs.python.org/3/library/struct.html\n",
    "        #byte-order-size-and-alignment\n",
    "    \"\"\"\n",
    "    DATA_TYPES = {0x08: 'B',  # unsigned byte\n",
    "                  0x09: 'b',  # signed byte\n",
    "                  0x0b: 'h',  # short (2 bytes)\n",
    "                  0x0c: 'i',  # int (4 bytes)\n",
    "                  0x0d: 'f',  # float (4 bytes)\n",
    "                  0x0e: 'd'}  # double (8 bytes)\n",
    "\n",
    "    header = fd.read(4)\n",
    "    if len(header) != 4:\n",
    "        raise IdxDecodeError('Invalid IDX file, '\n",
    "                             'file empty or does not contain a full header.')\n",
    "\n",
    "    zeros, data_type, num_dimensions = struct.unpack('>HBB', header)\n",
    "\n",
    "    if zeros != 0:\n",
    "        raise IdxDecodeError('Invalid IDX file, '\n",
    "                             'file must start with two zero bytes. '\n",
    "                             'Found 0x%02x' % zeros)\n",
    "\n",
    "    try:\n",
    "        data_type = DATA_TYPES[data_type]\n",
    "    except KeyError:\n",
    "        raise IdxDecodeError('Unknown data type '\n",
    "                             '0x%02x in IDX file' % data_type)\n",
    "\n",
    "    dimension_sizes = struct.unpack('>' + 'I' * num_dimensions,\n",
    "                                    fd.read(4 * num_dimensions))\n",
    "\n",
    "    data = array.array(data_type, fd.read())\n",
    "    data.byteswap()  # looks like array.array reads data as little endian\n",
    "\n",
    "    expected_items = functools.reduce(operator.mul, dimension_sizes)\n",
    "    if len(data) != expected_items:\n",
    "        raise IdxDecodeError('IDX file has wrong number of items. '\n",
    "                             'Expected: %d. Found: %d' % (expected_items,\n",
    "                                                          len(data)))\n",
    "    return data"
   ]
  },
  {
   "cell_type": "code",
   "execution_count": 360,
   "id": "98ae1bfa-6920-417a-9131-b6454f4761ed",
   "metadata": {},
   "outputs": [],
   "source": [
    "# unzip the files and extract the images \n",
    "with gzip.open(path_train, 'rb') as f:\n",
    "    pixels = list(parse_idx(f))"
   ]
  },
  {
   "cell_type": "code",
   "execution_count": 361,
   "id": "c3b6c1f2-54e7-438e-8298-046c1fc597f3",
   "metadata": {},
   "outputs": [
    {
     "data": {
      "text/plain": [
       "47040000"
      ]
     },
     "execution_count": 361,
     "metadata": {},
     "output_type": "execute_result"
    }
   ],
   "source": [
    "len(pixels)"
   ]
  },
  {
   "cell_type": "markdown",
   "id": "0df8549d-d153-4311-8866-42f45e24c6b2",
   "metadata": {},
   "source": [
    "These are all the pixels for the entire training set so we need to chunk them into images which are 784 pixels long"
   ]
  },
  {
   "cell_type": "markdown",
   "id": "a490de32-a4bc-4b7b-a711-5ac351072559",
   "metadata": {},
   "source": [
    "#### 2. Chunk the data"
   ]
  },
  {
   "cell_type": "code",
   "execution_count": 362,
   "id": "cc6e0489-5880-4ce6-b239-8f33e45d932f",
   "metadata": {},
   "outputs": [],
   "source": [
    "def chunk(lst, size):\n",
    "    for i in range(0, len(lst), size):\n",
    "        yield lst[i:i+size]"
   ]
  },
  {
   "cell_type": "code",
   "execution_count": 363,
   "id": "0e0769e7-4956-4d5a-97db-68f22a6d1ce2",
   "metadata": {},
   "outputs": [],
   "source": [
    "image_chunks = list(chunk(pixels, 784))"
   ]
  },
  {
   "cell_type": "code",
   "execution_count": 364,
   "id": "47a138d1-cac2-4307-aef6-307ea391201f",
   "metadata": {},
   "outputs": [
    {
     "data": {
      "text/plain": [
       "(60000, 784)"
      ]
     },
     "execution_count": 364,
     "metadata": {},
     "output_type": "execute_result"
    }
   ],
   "source": [
    "len(image_chunks), len(image_chunks[1])"
   ]
  },
  {
   "cell_type": "code",
   "execution_count": 365,
   "id": "eecf30bd-88c5-4a53-bede-da937bedbba9",
   "metadata": {},
   "outputs": [],
   "source": [
    "train_imgs = [list(chunk(img, 28)) for img in image_chunks]"
   ]
  },
  {
   "cell_type": "code",
   "execution_count": 366,
   "id": "85138c7b-54f6-410c-97c4-f9e4787fd711",
   "metadata": {},
   "outputs": [
    {
     "data": {
      "text/plain": [
       "(60000, 28, 28)"
      ]
     },
     "execution_count": 366,
     "metadata": {},
     "output_type": "execute_result"
    }
   ],
   "source": [
    "len(train_imgs), len(train_imgs[0]), len(train_imgs[0][0])"
   ]
  },
  {
   "cell_type": "markdown",
   "id": "5f2b8b8f-f91b-4d41-9b77-d97cd5195c27",
   "metadata": {},
   "source": [
    "#### 3. Display an image"
   ]
  },
  {
   "cell_type": "code",
   "execution_count": 367,
   "id": "823e09b4-57ec-40e6-8017-d5a027cc97b6",
   "metadata": {},
   "outputs": [
    {
     "data": {
      "text/plain": [
       "<matplotlib.image.AxesImage at 0x7f23ec6a9450>"
      ]
     },
     "execution_count": 367,
     "metadata": {},
     "output_type": "execute_result"
    },
    {
     "data": {
      "image/png": "[encoded data removed]",
      "text/plain": [
       "<Figure size 640x480 with 1 Axes>"
      ]
     },
     "metadata": {},
     "output_type": "display_data"
    }
   ],
   "source": [
    "plt.imshow(train_imgs[0])"
   ]
  },
  {
   "cell_type": "markdown",
   "id": "d39044ce-58d8-4b33-bc60-55ee274e4c5e",
   "metadata": {},
   "source": [
    "#### 4. Create a Tensor class"
   ]
  },
  {
   "cell_type": "code",
   "execution_count": 368,
   "id": "72ad2b08-4457-43fd-b30b-34edf22a630e",
   "metadata": {},
   "outputs": [],
   "source": [
    "class Matrix:\n",
    "    def __init__(self, xs):\n",
    "        self.xs = xs\n",
    "    def __getitem__(self, idxs):\n",
    "        return self.xs[idxs[0]][idxs[1]]"
   ]
  },
  {
   "cell_type": "code",
   "execution_count": 369,
   "id": "a6a7d721-ffb6-4a66-a7a2-865c82c39e0b",
   "metadata": {},
   "outputs": [],
   "source": [
    "img = Matrix(train_imgs[0])"
   ]
  },
  {
   "cell_type": "code",
   "execution_count": 370,
   "id": "7f658406-ae27-4ec2-85ec-7783b785574b",
   "metadata": {},
   "outputs": [
    {
     "data": {
      "text/plain": [
       "0"
      ]
     },
     "execution_count": 370,
     "metadata": {},
     "output_type": "execute_result"
    }
   ],
   "source": [
    "img[2,3]"
   ]
  },
  {
   "cell_type": "markdown",
   "id": "b379db80-33c0-42f4-a1f2-ee8424f67e17",
   "metadata": {},
   "source": [
    "In this lesson we implemented from:\n",
    "* List chunking\n",
    "* Tesor scripting\n",
    "\n",
    "Which means we can now use these features as they are implemented in other libraries.\n",
    "\n",
    "The video lessons also implemented random numbers from scratch but random is part of the standard python library so I did not bother.\n",
    "\n",
    "## Lesson 11"
   ]
  },
  {
   "cell_type": "markdown",
   "id": "376c53b6-c044-4d53-a38c-c66afaa91394",
   "metadata": {},
   "source": [
    "| Step | Notes | Documentation |\n",
    "| --- | --- | --- |\n",
    "| 1. Create a niave matrix multiplication function | | |\n",
    "| 2. Use PyTorch elementwise ops to increase speed | | [link](https://pytorch.org/docs/stable/generated/torch.dot.html)|\n",
    "| 3. Use PyTorch broadcasting to further increase the speed | | [link](https://pytorch.org/cppdocs/notes/tensor_indexing.html)"
   ]
  },
  {
   "cell_type": "markdown",
   "id": "c69bd525-d3e6-45c8-8c97-45b81a02a340",
   "metadata": {},
   "source": [
    "#### 1. Niave approach"
   ]
  },
  {
   "cell_type": "code",
   "execution_count": 371,
   "id": "7f4408da-2596-4318-9edd-3e1b893fee1e",
   "metadata": {},
   "outputs": [],
   "source": [
    "import torch\n",
    "\n",
    "torch.manual_seed(1)\n",
    "weights = torch.rand(784,10)\n",
    "bias = torch.zeros(10)\n",
    "m1 = torch.tensor(image_chunks[:5])\n",
    "m2 = weights"
   ]
  },
  {
   "cell_type": "code",
   "execution_count": 372,
   "id": "e6126e89-76d8-445a-aa5b-70a2230528ba",
   "metadata": {},
   "outputs": [
    {
     "data": {
      "text/plain": [
       "(torch.Size([5, 784]), torch.Size([784, 10]))"
      ]
     },
     "execution_count": 372,
     "metadata": {},
     "output_type": "execute_result"
    }
   ],
   "source": [
    "m1.shape, m2.shape"
   ]
  },
  {
   "cell_type": "code",
   "execution_count": 373,
   "id": "10970627-f1a3-46ea-a6bb-38dc9a2220f5",
   "metadata": {},
   "outputs": [],
   "source": [
    "def matmul(a, b):\n",
    "    (ar,ac),(br,bc) = a.shape, b.shape\n",
    "    c = torch.zeros(ar, bc)\n",
    "    for i in range(ar):\n",
    "        for j in range(bc):\n",
    "            for k in range(ac):\n",
    "                c[i,j] += a[i,k]*b[k,j]"
   ]
  },
  {
   "cell_type": "code",
   "execution_count": 374,
   "id": "d5aae6ea-b024-495b-a25e-34844c4b9acf",
   "metadata": {},
   "outputs": [
    {
     "name": "stdout",
     "output_type": "stream",
     "text": [
      "CPU times: user 493 ms, sys: 2 µs, total: 493 ms\n",
      "Wall time: 492 ms\n"
     ]
    }
   ],
   "source": [
    "%time _=matmul(m1, m2)"
   ]
  },
  {
   "cell_type": "markdown",
   "id": "dbaeb8de-a097-4b1e-a85b-6ade9ff59602",
   "metadata": {},
   "source": [
    "#### 2. Elementwise Ops "
   ]
  },
  {
   "cell_type": "code",
   "execution_count": 375,
   "id": "1e26c416-c9d6-47fa-9d84-6b144130c2d9",
   "metadata": {},
   "outputs": [],
   "source": [
    "def matmul(a, b):\n",
    "    (ar,ac),(br,bc) = a.shape, b.shape\n",
    "    c = torch.zeros(ar, bc)\n",
    "    for i in range(ar):\n",
    "        for j in range(bc):\n",
    "            c[i,j] = (a[i,:]*b[:,j]).sum()\n",
    "    return c"
   ]
  },
  {
   "cell_type": "code",
   "execution_count": 376,
   "id": "12ed406c-0407-47b0-b64e-3a21c1c99f40",
   "metadata": {},
   "outputs": [
    {
     "name": "stdout",
     "output_type": "stream",
     "text": [
      "713 µs ± 20.8 µs per loop (mean ± std. dev. of 7 runs, 50 loops each)\n"
     ]
    }
   ],
   "source": [
    "%timeit -n 50 matmul(m1, m2)"
   ]
  },
  {
   "cell_type": "markdown",
   "id": "df65364c-6779-47a0-89dc-187cdb6c8428",
   "metadata": {},
   "source": [
    "#### 3. Broadcasting"
   ]
  },
  {
   "cell_type": "code",
   "execution_count": 377,
   "id": "4c31fc51-566d-45da-b318-fd66a4549c00",
   "metadata": {},
   "outputs": [
    {
     "data": {
      "text/plain": [
       "torch.Size([784, 1])"
      ]
     },
     "execution_count": 377,
     "metadata": {},
     "output_type": "execute_result"
    }
   ],
   "source": [
    "m1[0,:,None].shape"
   ]
  },
  {
   "cell_type": "markdown",
   "id": "a52f5ee8-2253-420b-80b5-4be97d626017",
   "metadata": {},
   "source": [
    "* We've taken the first row of m1, and turned it into a single column matrix"
   ]
  },
  {
   "cell_type": "code",
   "execution_count": 378,
   "id": "622f4096-8024-4877-a2b2-315d479c2326",
   "metadata": {},
   "outputs": [
    {
     "data": {
      "text/plain": [
       "torch.Size([784, 10])"
      ]
     },
     "execution_count": 378,
     "metadata": {},
     "output_type": "execute_result"
    }
   ],
   "source": [
    "(m1[0,:,None] * m2).shape"
   ]
  },
  {
   "cell_type": "markdown",
   "id": "48ff1451-36d6-4217-94e7-4e421c6dbe22",
   "metadata": {},
   "source": [
    "* When we multiply it by m2, the matrix gets broadcasted to be in a compatible shape to multiply with m2\n",
    "* Then we are esentially multiplying the first row in m1 by all the columns in m2 through matrix multiplication and we get a vector as a result"
   ]
  },
  {
   "cell_type": "code",
   "execution_count": 379,
   "id": "f19849fc-5890-4817-8d12-1f753d99d22d",
   "metadata": {},
   "outputs": [
    {
     "data": {
      "text/plain": [
       "torch.Size([10])"
      ]
     },
     "execution_count": 379,
     "metadata": {},
     "output_type": "execute_result"
    }
   ],
   "source": [
    "(m1[0,:,None] * m2).sum(dim=0).shape"
   ]
  },
  {
   "cell_type": "markdown",
   "id": "242dbc61-489c-4c7e-a130-f9ad08d5b236",
   "metadata": {},
   "source": [
    "* Then we sum all the columns to get the first row of our resultant matrix"
   ]
  },
  {
   "cell_type": "code",
   "execution_count": 380,
   "id": "bb3de8e8-69db-420d-9676-972b3e3c9142",
   "metadata": {},
   "outputs": [],
   "source": [
    "def matmul(a, b):\n",
    "    (ar,ac),(br,bc) = a.shape, b.shape\n",
    "    c = torch.zeros(ar, bc)\n",
    "    for i in range(ar):\n",
    "        c[i] = (a[i,:,None]*b).sum(dim=0)\n",
    "    return c"
   ]
  },
  {
   "cell_type": "code",
   "execution_count": 381,
   "id": "0fc25404-3a4e-4679-94a5-c319b3a74c47",
   "metadata": {},
   "outputs": [
    {
     "name": "stdout",
     "output_type": "stream",
     "text": [
      "93.9 µs ± 8.74 µs per loop (mean ± std. dev. of 7 runs, 50 loops each)\n"
     ]
    }
   ],
   "source": [
    "%timeit -n 50 matmul(m1, m2)"
   ]
  },
  {
   "cell_type": "code",
   "execution_count": 382,
   "id": "62a6c8b6-55fe-4348-a70d-58b821d1c686",
   "metadata": {},
   "outputs": [
    {
     "data": {
      "text/plain": [
       "4458.8744588744585"
      ]
     },
     "execution_count": 382,
     "metadata": {},
     "output_type": "execute_result"
    }
   ],
   "source": [
    "0.412 / 92.4e-6"
   ]
  },
  {
   "cell_type": "markdown",
   "id": "df17dfb0-daff-4102-a970-0120a06d4b18",
   "metadata": {},
   "source": [
    "Through this process, we've increased the speed of our matrix multiplication from our naive approach by a factor of about 5000x!"
   ]
  },
  {
   "cell_type": "markdown",
   "id": "0a2899ca-82f6-4d1b-894e-0a59cbaa90ab",
   "metadata": {},
   "source": [
    "## Lesson 12 Part 1 (Part 2 in 02_)\n",
    "| Step | Notes | Documentation |\n",
    "| --- | --- | --- |\n",
    "| 1. Eintein Summation | Implement matmul with einstein summation | [link](https://pytorch.org/docs/stable/generated/torch.einsum.html) |\n",
    "| 2. PyTorch Op | Implement matmul with PyTorch Op (@) | |\n",
    "| 3. CUDA | Implement matmul and run it on gpu | |\n",
    "| | @cuda.jit | |\n",
    "| | Create a grid | |\n",
    "| | Loop over rows in first matrix | |\n",
    "| | Put the data on the gpu (cuda.to_device)| [link](https://numba.pydata.org/numba-doc/0.13/CUDAJit.html) |\n",
    "| | [blockspergrid, (TPB,TPB)] | |\n",
    "| | Put the result back on the CPU (copy_to_host) | [link](https://numba.pydata.org/numba-doc/0.13/CUDAJit.html) |\n",
    "| 4. Torch Cuda | Put the inputs on the gpu | [link](https://pytorch.org/docs/stable/cuda.html) |\n",
    "| | PyTorch Op | |\n",
    "| | Put the result on the CPU | [link](https://pytorch.org/docs/stable/cpu.html) |"
   ]
  },
  {
   "cell_type": "markdown",
   "id": "9d063ef4",
   "metadata": {},
   "source": [
    "#### 1. Einstein Summation"
   ]
  },
  {
   "cell_type": "code",
   "execution_count": 390,
   "id": "94df1423",
   "metadata": {},
   "outputs": [
    {
     "data": {
      "text/plain": [
       "(torch.Size([5, 784]), torch.Size([784, 10]))"
      ]
     },
     "execution_count": 390,
     "metadata": {},
     "output_type": "execute_result"
    }
   ],
   "source": [
    "m1.shape, m2.shape"
   ]
  },
  {
   "cell_type": "code",
   "execution_count": 401,
   "id": "a79b0dff",
   "metadata": {},
   "outputs": [
    {
     "data": {
      "text/plain": [
       "(tensor([[0, 0, 0,  ..., 0, 0, 0],\n",
       "         [0, 0, 0,  ..., 0, 0, 0],\n",
       "         [0, 0, 0,  ..., 0, 0, 0],\n",
       "         [0, 0, 0,  ..., 0, 0, 0],\n",
       "         [0, 0, 0,  ..., 0, 0, 0]]),\n",
       " tensor([[0.758, 0.279, 0.403,  ..., 0.754, 0.570, 0.439],\n",
       "         [0.639, 0.525, 0.683,  ..., 0.498, 0.937, 0.656],\n",
       "         [0.314, 0.198, 0.416,  ..., 0.772, 0.011, 0.810],\n",
       "         ...,\n",
       "         [0.198, 0.611, 0.155,  ..., 0.127, 0.112, 0.805],\n",
       "         [0.325, 0.366, 0.131,  ..., 0.577, 0.930, 0.056],\n",
       "         [0.710, 0.201, 0.761,  ..., 0.596, 0.552, 0.151]]))"
      ]
     },
     "execution_count": 401,
     "metadata": {},
     "output_type": "execute_result"
    }
   ],
   "source": [
    "m1,m2"
   ]
  },
  {
   "cell_type": "code",
   "execution_count": 402,
   "id": "9846669a",
   "metadata": {},
   "outputs": [],
   "source": [
    "m1= m1.float()"
   ]
  },
  {
   "cell_type": "code",
   "execution_count": 403,
   "id": "2d86b2d2",
   "metadata": {},
   "outputs": [
    {
     "data": {
      "text/plain": [
       "tensor([[39188.984, 37019.160, 40593.422, 38566.141, 35925.922, 38446.547, 36549.461, 38711.676, 36992.492, 38633.809],\n",
       "        [42420.848, 42914.598, 44270.199, 42826.625, 41253.781, 43048.133, 40055.414, 42347.586, 42641.383, 41230.188],\n",
       "        [14664.328, 14397.241, 14957.521, 14195.162, 14081.121, 14811.805, 14101.413, 14264.991, 15744.840, 13638.903],\n",
       "        [23394.113, 23634.238, 24475.088, 24055.564, 23647.275, 23818.494, 22843.998, 23894.293, 23781.828, 22521.004],\n",
       "        [31064.795, 30976.586, 32092.305, 31240.537, 30529.746, 31704.115, 29437.299, 30499.428, 32891.711, 29428.092]])"
      ]
     },
     "execution_count": 403,
     "metadata": {},
     "output_type": "execute_result"
    }
   ],
   "source": [
    "torch.einsum(\"ij,jk->ik\", m1, m2)"
   ]
  },
  {
   "cell_type": "code",
   "execution_count": 406,
   "id": "baa08972",
   "metadata": {},
   "outputs": [],
   "source": [
    "def matmul(a, b):\n",
    "    return torch.einsum(\"ij,jk->ik\", a, b)"
   ]
  },
  {
   "cell_type": "code",
   "execution_count": 407,
   "id": "207b3b8c",
   "metadata": {},
   "outputs": [
    {
     "name": "stdout",
     "output_type": "stream",
     "text": [
      "35.7 µs ± 7.69 µs per loop (mean ± std. dev. of 7 runs, 50 loops each)\n"
     ]
    }
   ],
   "source": [
    "%timeit -n 50 matmul(m1, m2)"
   ]
  },
  {
   "cell_type": "markdown",
   "id": "0b381d35",
   "metadata": {},
   "source": [
    "#### 2. PyTorch Op"
   ]
  },
  {
   "cell_type": "code",
   "execution_count": 417,
   "id": "14b14224",
   "metadata": {},
   "outputs": [],
   "source": [
    "def matmul(a, b):\n",
    "    return a@b"
   ]
  },
  {
   "cell_type": "code",
   "execution_count": 418,
   "id": "0a6b4d91",
   "metadata": {},
   "outputs": [
    {
     "name": "stdout",
     "output_type": "stream",
     "text": [
      "13.8 µs ± 4.77 µs per loop (mean ± std. dev. of 7 runs, 50 loops each)\n"
     ]
    }
   ],
   "source": [
    "%timeit -n 50 matmul(m1, m2)"
   ]
  },
  {
   "cell_type": "markdown",
   "id": "de83c4c1",
   "metadata": {},
   "source": [
    "#### 3. CUDA"
   ]
  },
  {
   "cell_type": "code",
   "execution_count": 421,
   "id": "637dec91",
   "metadata": {},
   "outputs": [],
   "source": [
    "from numba import cuda"
   ]
  },
  {
   "cell_type": "code",
   "execution_count": 422,
   "id": "be7bb56b",
   "metadata": {},
   "outputs": [],
   "source": [
    "@cuda.jit\n",
    "def matmul(a,b,c):\n",
    "    i,j = cuda.grid(2)\n",
    "    if i < c.shape[0] and j < c.shape[1]:\n",
    "        tmp = 0.\n",
    "        for k in range(a.shape[1]):\n",
    "            tmp += a[i,k] * b[k,j]\n",
    "        c[i,j] = tmp\n",
    "\n"
   ]
  },
  {
   "cell_type": "code",
   "execution_count": 442,
   "id": "db5613ac",
   "metadata": {},
   "outputs": [],
   "source": [
    "x_train = torch.tensor(image_chunks).float()"
   ]
  },
  {
   "cell_type": "code",
   "execution_count": 444,
   "id": "3e7a2b50",
   "metadata": {},
   "outputs": [
    {
     "data": {
      "text/plain": [
       "torch.Size([60000, 10])"
      ]
     },
     "execution_count": 444,
     "metadata": {},
     "output_type": "execute_result"
    }
   ],
   "source": [
    "tr = x_train@weights\n",
    "tr.shape"
   ]
  },
  {
   "cell_type": "code",
   "execution_count": 447,
   "id": "68e27b16",
   "metadata": {},
   "outputs": [],
   "source": [
    "r = np.zeros(tr.shape)\n",
    "m1g,m2g,rg = map(cuda.to_device, (x_train,weights,r))"
   ]
  },
  {
   "cell_type": "code",
   "execution_count": 448,
   "id": "56902afa",
   "metadata": {},
   "outputs": [
    {
     "data": {
      "text/plain": [
       "(3750, 1)"
      ]
     },
     "execution_count": 448,
     "metadata": {},
     "output_type": "execute_result"
    }
   ],
   "source": [
    "# Don't need to know the details of this right now\n",
    "# Just copy it when you need it\n",
    "TPB = 16\n",
    "rr,rc = r.shape\n",
    "blockspergrid = (math.ceil(rr / TPB), math.ceil(rc / TPB))\n",
    "blockspergrid"
   ]
  },
  {
   "cell_type": "code",
   "execution_count": 450,
   "id": "45db5c28",
   "metadata": {},
   "outputs": [
    {
     "data": {
      "text/plain": [
       "(60000, 10)"
      ]
     },
     "execution_count": 450,
     "metadata": {},
     "output_type": "execute_result"
    }
   ],
   "source": [
    "matmul[blockspergrid, (TPB,TPB)](m1g,m2g,rg)\n",
    "r = rg.copy_to_host()\n",
    "r.shape"
   ]
  },
  {
   "cell_type": "code",
   "execution_count": 451,
   "id": "d93c2d50",
   "metadata": {},
   "outputs": [
    {
     "name": "stdout",
     "output_type": "stream",
     "text": [
      "6.86 ms ± 356 µs per loop (mean ± std. dev. of 7 runs, 10 loops each)\n"
     ]
    }
   ],
   "source": [
    "%%timeit -n 10\n",
    "matmul[blockspergrid, (TPB,TPB)](m1g,m2g,rg)\n",
    "r = rg.copy_to_host()"
   ]
  },
  {
   "cell_type": "markdown",
   "id": "2f61a8f1",
   "metadata": {},
   "source": [
    "#### 4. PyTorch CUDA"
   ]
  },
  {
   "cell_type": "code",
   "execution_count": 452,
   "id": "ab270b53",
   "metadata": {},
   "outputs": [],
   "source": [
    "m1c, m2c = x_train.cuda(), weights.cuda()"
   ]
  },
  {
   "cell_type": "code",
   "execution_count": 453,
   "id": "f7f9dac4",
   "metadata": {},
   "outputs": [],
   "source": [
    "r = (m1c@m2c).cpu()"
   ]
  },
  {
   "cell_type": "code",
   "execution_count": 454,
   "id": "5648f00b",
   "metadata": {},
   "outputs": [
    {
     "name": "stdout",
     "output_type": "stream",
     "text": [
      "1.01 ms ± 677 µs per loop (mean ± std. dev. of 7 runs, 10 loops each)\n"
     ]
    }
   ],
   "source": [
    "%timeit -n 10 r=(m1c@m2c).cpu()"
   ]
  },
  {
   "cell_type": "code",
   "execution_count": null,
   "id": "e38401a0",
   "metadata": {},
   "outputs": [],
   "source": []
  }
 ],
 "metadata": {
  "kernelspec": {
   "display_name": "Python 3 (ipykernel)",
   "language": "python",
   "name": "python3"
  }
 },
 "nbformat": 4,
 "nbformat_minor": 5
}
